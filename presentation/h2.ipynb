{
 "cells": [
  {
   "cell_type": "code",
   "execution_count": 1,
   "metadata": {},
   "outputs": [
    {
     "name": "stdout",
     "output_type": "stream",
     "text": [
      "/home/azhar04/anaconda3/envs/qiskit-1-2/bin/python\n"
     ]
    }
   ],
   "source": [
    "%load_ext autoreload\n",
    "%autoreload 2\n",
    "\n",
    "import sys\n",
    "sys.path.append('/home/azhar04/project/1. dev/quantum-dev/ShotOptimized-ADAPT-VQE/2-Shot-ADAPT-VQE/')\n",
    "print(sys.executable)"
   ]
  },
  {
   "cell_type": "code",
   "execution_count": 2,
   "metadata": {},
   "outputs": [],
   "source": [
    "from src.pools import QE\n",
    "from src.molecules import create_h2, create_h3\n",
    "\n",
    "from algorithms.adapt_vqe_v2 import AdaptVQE\n",
    "\n",
    "r = 0.742\n",
    "molecule = create_h2(r)\n",
    "pool = QE(molecule)\n"
   ]
  },
  {
   "cell_type": "code",
   "execution_count": 3,
   "metadata": {},
   "outputs": [
    {
     "data": {
      "text/plain": [
       "<openfermionpyscf._pyscf_molecular_data.PyscfMolecularData at 0x7f1a5cc4a0c0>"
      ]
     },
     "execution_count": 3,
     "metadata": {},
     "output_type": "execute_result"
    }
   ],
   "source": [
    "molecule"
   ]
  },
  {
   "cell_type": "code",
   "execution_count": 4,
   "metadata": {},
   "outputs": [],
   "source": [
    "adapt_vqe = AdaptVQE(pool=pool,\n",
    "                    molecule=molecule,\n",
    "                    max_adapt_iter=10,\n",
    "                    max_opt_iter=100,\n",
    "                    grad_threshold=10**-5,\n",
    "                    vrb=True,\n",
    "                    optimizer_method='bfgs'\n",
    "                    )"
   ]
  },
  {
   "cell_type": "code",
   "execution_count": 14,
   "metadata": {},
   "outputs": [
    {
     "name": "stdout",
     "output_type": "stream",
     "text": [
      "() 0.7131768341239892\n",
      "((0, 1), (0, 0)) -1.2521011771187973\n",
      "((1, 1), (1, 0)) -1.2521011771187973\n",
      "((2, 1), (2, 0)) -0.4763246662830587\n",
      "((3, 1), (3, 0)) -0.4763246662830587\n",
      "((0, 1), (0, 1), (0, 0), (0, 0)) 0.3371871363510416\n",
      "((0, 1), (0, 1), (2, 0), (2, 0)) 0.09066120278229658\n",
      "((0, 1), (1, 1), (1, 0), (0, 0)) 0.3371871363510416\n",
      "((0, 1), (1, 1), (3, 0), (2, 0)) 0.09066120278229658\n",
      "((0, 1), (2, 1), (0, 0), (2, 0)) 0.09066120278229658\n",
      "((0, 1), (2, 1), (2, 0), (0, 0)) 0.33168193748206215\n",
      "((0, 1), (3, 1), (1, 0), (2, 0)) 0.09066120278229658\n",
      "((0, 1), (3, 1), (3, 0), (0, 0)) 0.33168193748206215\n",
      "((1, 1), (0, 1), (0, 0), (1, 0)) 0.3371871363510416\n",
      "((1, 1), (0, 1), (2, 0), (3, 0)) 0.09066120278229658\n",
      "((1, 1), (1, 1), (1, 0), (1, 0)) 0.3371871363510416\n",
      "((1, 1), (1, 1), (3, 0), (3, 0)) 0.09066120278229658\n",
      "((1, 1), (2, 1), (0, 0), (3, 0)) 0.09066120278229658\n",
      "((1, 1), (2, 1), (2, 0), (1, 0)) 0.33168193748206215\n",
      "((1, 1), (3, 1), (1, 0), (3, 0)) 0.09066120278229658\n",
      "((1, 1), (3, 1), (3, 0), (1, 0)) 0.33168193748206215\n",
      "((2, 1), (0, 1), (0, 0), (2, 0)) 0.3316819374820622\n",
      "((2, 1), (0, 1), (2, 0), (0, 0)) 0.09066120278229658\n",
      "((2, 1), (1, 1), (1, 0), (2, 0)) 0.3316819374820622\n",
      "((2, 1), (1, 1), (3, 0), (0, 0)) 0.09066120278229658\n",
      "((2, 1), (2, 1), (0, 0), (0, 0)) 0.09066120278229658\n",
      "((2, 1), (2, 1), (2, 0), (2, 0)) 0.3486416866888512\n",
      "((2, 1), (3, 1), (1, 0), (0, 0)) 0.09066120278229658\n",
      "((2, 1), (3, 1), (3, 0), (2, 0)) 0.3486416866888512\n",
      "((3, 1), (0, 1), (0, 0), (3, 0)) 0.3316819374820622\n",
      "((3, 1), (0, 1), (2, 0), (1, 0)) 0.09066120278229658\n",
      "((3, 1), (1, 1), (1, 0), (3, 0)) 0.3316819374820622\n",
      "((3, 1), (1, 1), (3, 0), (1, 0)) 0.09066120278229658\n",
      "((3, 1), (2, 1), (0, 0), (1, 0)) 0.09066120278229658\n",
      "((3, 1), (2, 1), (2, 0), (3, 0)) 0.3486416866888512\n",
      "((3, 1), (3, 1), (1, 0), (1, 0)) 0.09066120278229658\n",
      "((3, 1), (3, 1), (3, 0), (3, 0)) 0.3486416866888512\n",
      "\n"
     ]
    }
   ],
   "source": [
    "print(adapt_vqe.fermionic_hamiltonian)"
   ]
  },
  {
   "cell_type": "code",
   "execution_count": 9,
   "metadata": {},
   "outputs": [
    {
     "data": {
      "text/plain": [
       "-0.0996319255760924 [] +\n",
       "-0.04533060139114829 [X0 X1 Y2 Y3] +\n",
       "0.04533060139114829 [X0 Y1 Y2 X3] +\n",
       "0.04533060139114829 [Y0 X1 X2 Y3] +\n",
       "-0.04533060139114829 [Y0 Y1 X2 X3] +\n",
       "0.17110568429296397 [Z0] +\n",
       "0.1685935681755208 [Z0 Z1] +\n",
       "0.1205103673498828 [Z0 Z2] +\n",
       "0.1658409687410311 [Z0 Z3] +\n",
       "0.17110568429296397 [Z1] +\n",
       "0.1658409687410311 [Z1 Z2] +\n",
       "0.1205103673498828 [Z1 Z3] +\n",
       "-0.22250984629381015 [Z2] +\n",
       "0.1743208433444256 [Z2 Z3] +\n",
       "-0.22250984629381015 [Z3]"
      ]
     },
     "execution_count": 9,
     "metadata": {},
     "output_type": "execute_result"
    }
   ],
   "source": [
    "adapt_vqe.qubit_hamiltonian"
   ]
  },
  {
   "cell_type": "code",
   "execution_count": 10,
   "metadata": {},
   "outputs": [
    {
     "data": {
      "text/plain": [
       "SparsePauliOp(['IIII', 'IIIZ', 'IIZI', 'IZII', 'ZIII', 'IIZZ', 'IZIZ', 'ZIIZ', 'IZZI', 'ZIZI', 'ZZII', 'YYXX', 'XYYX', 'YXXY', 'XXYY'],\n",
       "              coeffs=[-0.09963193+0.j,  0.17110568+0.j,  0.17110568+0.j, -0.22250985+0.j,\n",
       " -0.22250985+0.j,  0.16859357+0.j,  0.12051037+0.j,  0.16584097+0.j,\n",
       "  0.16584097+0.j,  0.12051037+0.j,  0.17432084+0.j, -0.0453306 +0.j,\n",
       "  0.0453306 +0.j,  0.0453306 +0.j, -0.0453306 +0.j])"
      ]
     },
     "execution_count": 10,
     "metadata": {},
     "output_type": "execute_result"
    }
   ],
   "source": [
    "adapt_vqe.qiskit_hamiltonian"
   ]
  },
  {
   "cell_type": "code",
   "execution_count": 11,
   "metadata": {},
   "outputs": [
    {
     "data": {
      "text/plain": [
       "[SparsePauliOp(['YYXX', 'IIII'],\n",
       "               coeffs=[-0.0453306 +0.j, -0.09963193+0.j]),\n",
       " SparsePauliOp(['XYYX'],\n",
       "               coeffs=[0.0453306+0.j]),\n",
       " SparsePauliOp(['YXXY'],\n",
       "               coeffs=[0.0453306+0.j]),\n",
       " SparsePauliOp(['XXYY'],\n",
       "               coeffs=[-0.0453306+0.j]),\n",
       " SparsePauliOp(['IIIZ', 'IIZI', 'IZII', 'ZIII', 'IIZZ', 'IZIZ', 'ZIIZ', 'IZZI', 'ZIZI', 'ZZII'],\n",
       "               coeffs=[ 0.17110568+0.j,  0.17110568+0.j, -0.22250985+0.j, -0.22250985+0.j,\n",
       "   0.16859357+0.j,  0.12051037+0.j,  0.16584097+0.j,  0.16584097+0.j,\n",
       "   0.12051037+0.j,  0.17432084+0.j])]"
      ]
     },
     "execution_count": 11,
     "metadata": {},
     "output_type": "execute_result"
    }
   ],
   "source": [
    "adapt_vqe.commuted_hamiltonian"
   ]
  }
 ],
 "metadata": {
  "kernelspec": {
   "display_name": "qiskit-1-2",
   "language": "python",
   "name": "python3"
  },
  "language_info": {
   "codemirror_mode": {
    "name": "ipython",
    "version": 3
   },
   "file_extension": ".py",
   "mimetype": "text/x-python",
   "name": "python",
   "nbconvert_exporter": "python",
   "pygments_lexer": "ipython3",
   "version": "3.12.3"
  }
 },
 "nbformat": 4,
 "nbformat_minor": 2
}
