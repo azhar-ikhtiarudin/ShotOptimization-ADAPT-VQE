{
 "cells": [
  {
   "cell_type": "code",
   "execution_count": 88,
   "metadata": {},
   "outputs": [
    {
     "name": "stdout",
     "output_type": "stream",
     "text": [
      "The autoreload extension is already loaded. To reload it, use:\n",
      "  %reload_ext autoreload\n"
     ]
    },
    {
     "data": {
      "text/plain": [
       "'H2'"
      ]
     },
     "execution_count": 88,
     "metadata": {},
     "output_type": "execute_result"
    }
   ],
   "source": [
    "%load_ext autoreload\n",
    "%autoreload 2\n",
    "\n",
    "import sys \n",
    "import os\n",
    "sys.path.append('/home/azhar04/project/1. dev/quantum-dev/ShotOptimized-ADAPT-VQE/')\n",
    "\n",
    "from openfermion.transforms import jordan_wigner\n",
    "from src.pools import SD, GSD, GSD1, SingletGSD, SpinCompGSD, PauliPool,  NoZPauliPool1, NoZPauliPool, QE, QE1, QE_All, CEO, OVP_CEO, DVG_CEO, DVE_CEO, MVP_CEO\n",
    "from src.molecules import create_h2\n",
    "\n",
    "# Molecule\n",
    "R = 0.742\n",
    "molecule = create_h2(R)\n",
    "molecule.description"
   ]
  },
  {
   "cell_type": "markdown",
   "metadata": {},
   "source": [
    "### Single and Double Excitations"
   ]
  },
  {
   "cell_type": "code",
   "execution_count": 11,
   "metadata": {},
   "outputs": [
    {
     "name": "stdout",
     "output_type": "stream",
     "text": [
      "\n",
      "Operator-0: 0.5 [0^ 2] +\n",
      "-0.5 [2^ 0]\n",
      "\n",
      "Operator-1: 0.5 [1^ 3] +\n",
      "-0.5 [3^ 1]\n",
      "\n",
      "Operator-2: 0.5 [1^ 0^ 3 2] +\n",
      "-0.5 [3^ 2^ 1 0]\n"
     ]
    }
   ],
   "source": [
    "sd_pool = SD(molecule)\n",
    "sd_pool.__dict__\n",
    "\n",
    "for i in range(len(sd_pool.operators)):\n",
    "    print(f'\\nOperator-{i}: {sd_pool.operators[i]._f_operator}')\n",
    "    # print(f'\\nOperator-{i}: {type(sd_pool.operators[i]._f_operator)}')"
   ]
  },
  {
   "cell_type": "markdown",
   "metadata": {},
   "source": [
    "### Generalized Single and Double Excitations\n",
    "where repeated indices are not allowed"
   ]
  },
  {
   "cell_type": "code",
   "execution_count": 89,
   "metadata": {},
   "outputs": [
    {
     "name": "stdout",
     "output_type": "stream",
     "text": [
      "Fermionic Operator-0: 0.5 [0^ 1] +\n",
      "-0.5 [1^ 0]\n",
      "Fermionic Operator-1: -0.25 [1^ 0^ 2 1] +\n",
      "0.25 [1^ 0^ 3 0] +\n",
      "0.25 [2^ 1^ 1 0] +\n",
      "-0.25 [3^ 0^ 1 0]\n",
      "Fermionic Operator-2: 0.5 [1^ 0^ 3 2] +\n",
      "-0.5 [3^ 2^ 1 0]\n",
      "Fermionic Operator-3: -0.25 [2^ 1^ 3 2] +\n",
      "0.25 [3^ 0^ 3 2] +\n",
      "0.25 [3^ 2^ 2 1] +\n",
      "-0.25 [3^ 2^ 3 0]\n",
      "\n",
      "Qubit Operator-0: 0.25j [X0 Y1] +\n",
      "-0.25j [Y0 X1]\n",
      "Qubit Operator-1: -0.0625j [X0 Z1 Y2] +\n",
      "0.0625j [X0 Y2] +\n",
      "0.0625j [Y0 Z1 X2] +\n",
      "-0.0625j [Y0 X2] +\n",
      "0.0625j [Z0 X1 Z2 Y3] +\n",
      "-0.0625j [Z0 Y1 Z2 X3] +\n",
      "-0.0625j [X1 Z2 Y3] +\n",
      "0.0625j [Y1 Z2 X3]\n",
      "Qubit Operator-2: -0.0625j [X0 X1 X2 Y3] +\n",
      "-0.0625j [X0 X1 Y2 X3] +\n",
      "0.0625j [X0 Y1 X2 X3] +\n",
      "-0.0625j [X0 Y1 Y2 Y3] +\n",
      "0.0625j [Y0 X1 X2 X3] +\n",
      "-0.0625j [Y0 X1 Y2 Y3] +\n",
      "0.0625j [Y0 Y1 X2 Y3] +\n",
      "0.0625j [Y0 Y1 Y2 X3]\n",
      "Qubit Operator-3: -0.0625j [X0 Z1 Y2] +\n",
      "0.0625j [X0 Z1 Y2 Z3] +\n",
      "0.0625j [Y0 Z1 X2] +\n",
      "-0.0625j [Y0 Z1 X2 Z3] +\n",
      "-0.0625j [X1 Z2 Y3] +\n",
      "0.0625j [X1 Y3] +\n",
      "0.0625j [Y1 Z2 X3] +\n",
      "-0.0625j [Y1 X3]\n"
     ]
    }
   ],
   "source": [
    "gsd_pool = GSD(molecule)\n",
    "gsd_pool.__dict__\n",
    "\n",
    "\n",
    "for i in range(len(gsd_pool.operators)):\n",
    "    print(f'Fermionic Operator-{i}: {gsd_pool.operators[i]._f_operator}')\n",
    "print('')\n",
    "\n",
    "for i in range(len(gsd_pool.operators)):\n",
    "    qubit_operator = jordan_wigner(gsd_pool.operators[i]._f_operator)\n",
    "    print(f'Qubit Operator-{i}: {qubit_operator}')"
   ]
  },
  {
   "cell_type": "markdown",
   "metadata": {},
   "source": [
    "### Generalized Single and Double Excitations\n",
    "where repeated indices are allowed"
   ]
  },
  {
   "cell_type": "code",
   "execution_count": null,
   "metadata": {},
   "outputs": [
    {
     "name": "stdout",
     "output_type": "stream",
     "text": [
      "Fermionic Operator-0: 0.5 [0^ 2] +\n",
      "-0.5 [2^ 0]\n",
      "Fermionic Operator-1: 0.5 [1^ 3] +\n",
      "-0.5 [3^ 1]\n",
      "Fermionic Operator-2: 0.5 [1^ 0^ 3 0] +\n",
      "-0.5 [3^ 0^ 1 0]\n",
      "Fermionic Operator-3: -0.5 [1^ 0^ 2 1] +\n",
      "0.5 [2^ 1^ 1 0]\n",
      "Fermionic Operator-4: 0.5 [1^ 0^ 3 2] +\n",
      "-0.5 [3^ 2^ 1 0]\n",
      "Fermionic Operator-5: 0.5 [2^ 1^ 3 0] +\n",
      "-0.5 [3^ 0^ 2 1]\n",
      "Fermionic Operator-6: 0.5 [3^ 0^ 3 2] +\n",
      "-0.5 [3^ 2^ 3 0]\n",
      "Fermionic Operator-7: 0.5 [2^ 1^ 3 2] +\n",
      "-0.5 [3^ 2^ 2 1]\n",
      "\n",
      "Qubit Operator-0: 0.25j [X0 Z1 Y2] +\n",
      "-0.25j [Y0 Z1 X2]\n",
      "Qubit Operator-1: 0.25j [X1 Z2 Y3] +\n",
      "-0.25j [Y1 Z2 X3]\n",
      "Qubit Operator-2: 0.125j [Z0 X1 Z2 Y3] +\n",
      "-0.125j [Z0 Y1 Z2 X3] +\n",
      "-0.125j [X1 Z2 Y3] +\n",
      "0.125j [Y1 Z2 X3]\n",
      "Qubit Operator-3: -0.125j [X0 Z1 Y2] +\n",
      "0.125j [X0 Y2] +\n",
      "0.125j [Y0 Z1 X2] +\n",
      "-0.125j [Y0 X2]\n",
      "Qubit Operator-4: -0.0625j [X0 X1 X2 Y3] +\n",
      "-0.0625j [X0 X1 Y2 X3] +\n",
      "0.0625j [X0 Y1 X2 X3] +\n",
      "-0.0625j [X0 Y1 Y2 Y3] +\n",
      "0.0625j [Y0 X1 X2 X3] +\n",
      "-0.0625j [Y0 X1 Y2 Y3] +\n",
      "0.0625j [Y0 Y1 X2 Y3] +\n",
      "0.0625j [Y0 Y1 Y2 X3]\n",
      "Qubit Operator-5: -0.0625j [X0 X1 X2 Y3] +\n",
      "0.0625j [X0 X1 Y2 X3] +\n",
      "0.0625j [X0 Y1 X2 X3] +\n",
      "0.0625j [X0 Y1 Y2 Y3] +\n",
      "-0.0625j [Y0 X1 X2 X3] +\n",
      "-0.0625j [Y0 X1 Y2 Y3] +\n",
      "-0.0625j [Y0 Y1 X2 Y3] +\n",
      "0.0625j [Y0 Y1 Y2 X3]\n",
      "Qubit Operator-6: -0.125j [X0 Z1 Y2] +\n",
      "0.125j [X0 Z1 Y2 Z3] +\n",
      "0.125j [Y0 Z1 X2] +\n",
      "-0.125j [Y0 Z1 X2 Z3]\n",
      "Qubit Operator-7: 0.125j [X1 Z2 Y3] +\n",
      "-0.125j [X1 Y3] +\n",
      "-0.125j [Y1 Z2 X3] +\n",
      "0.125j [Y1 X3]\n"
     ]
    }
   ],
   "source": [
    "gsd_pool = GSD1(molecule)\n",
    "gsd_pool.__dict__\n",
    "\n",
    "\n",
    "for i in range(len(gsd_pool.operators)):\n",
    "    print(f'Fermionic Operator-{i}: {gsd_pool.operators[i]._f_operator}')\n",
    "print('')\n",
    "\n",
    "for i in range(len(gsd_pool.operators)):\n",
    "    qubit_operator = jordan_wigner(gsd_pool.operators[i]._f_operator)\n",
    "    print(f'Qubit Operator-{i}: {qubit_operator}')"
   ]
  },
  {
   "cell_type": "code",
   "execution_count": 75,
   "metadata": {},
   "outputs": [
    {
     "data": {
      "image/png": "[encoded data removed]",
      "text/plain": [
       "<Figure size 1374.44x367.889 with 1 Axes>"
      ]
     },
     "execution_count": 75,
     "metadata": {},
     "output_type": "execute_result"
    }
   ],
   "source": [
    "circuit = gsd_pool.get_circuit([1],[3.14])\n",
    "circuit.draw()"
   ]
  },
  {
   "cell_type": "markdown",
   "metadata": {},
   "source": [
    "### Singlet or Spin-adapted Generalized Single and Double Excitations"
   ]
  },
  {
   "cell_type": "code",
   "execution_count": 82,
   "metadata": {},
   "outputs": [
    {
     "name": "stdout",
     "output_type": "stream",
     "text": [
      "Fermionic Operator-0: 0.5 [0^ 2] +\n",
      "-0.5 [2^ 0]\n",
      "Fermionic Operator-1: 0.5 [1^ 3] +\n",
      "-0.5 [3^ 1]\n",
      "Fermionic Operator-2: 0.5 [1^ 0^ 3 0] +\n",
      "-0.5 [3^ 0^ 1 0]\n",
      "Fermionic Operator-3: -0.5 [1^ 0^ 2 1] +\n",
      "0.5 [2^ 1^ 1 0]\n",
      "Fermionic Operator-4: 0.5 [1^ 0^ 3 2] +\n",
      "-0.5 [3^ 2^ 1 0]\n",
      "Fermionic Operator-5: 0.5 [2^ 1^ 3 0] +\n",
      "-0.5 [3^ 0^ 2 1]\n",
      "Fermionic Operator-6: 0.5 [3^ 0^ 3 2] +\n",
      "-0.5 [3^ 2^ 3 0]\n",
      "Fermionic Operator-7: 0.5 [2^ 1^ 3 2] +\n",
      "-0.5 [3^ 2^ 2 1]\n",
      "\n",
      "Qubit Operator-0: 0.25j [X0 Z1 Y2] +\n",
      "-0.25j [Y0 Z1 X2]\n",
      "Qubit Operator-1: 0.25j [X1 Z2 Y3] +\n",
      "-0.25j [Y1 Z2 X3]\n",
      "Qubit Operator-2: 0.125j [Z0 X1 Z2 Y3] +\n",
      "-0.125j [Z0 Y1 Z2 X3] +\n",
      "-0.125j [X1 Z2 Y3] +\n",
      "0.125j [Y1 Z2 X3]\n",
      "Qubit Operator-3: -0.125j [X0 Z1 Y2] +\n",
      "0.125j [X0 Y2] +\n",
      "0.125j [Y0 Z1 X2] +\n",
      "-0.125j [Y0 X2]\n",
      "Qubit Operator-4: -0.0625j [X0 X1 X2 Y3] +\n",
      "-0.0625j [X0 X1 Y2 X3] +\n",
      "0.0625j [X0 Y1 X2 X3] +\n",
      "-0.0625j [X0 Y1 Y2 Y3] +\n",
      "0.0625j [Y0 X1 X2 X3] +\n",
      "-0.0625j [Y0 X1 Y2 Y3] +\n",
      "0.0625j [Y0 Y1 X2 Y3] +\n",
      "0.0625j [Y0 Y1 Y2 X3]\n",
      "Qubit Operator-5: -0.0625j [X0 X1 X2 Y3] +\n",
      "0.0625j [X0 X1 Y2 X3] +\n",
      "0.0625j [X0 Y1 X2 X3] +\n",
      "0.0625j [X0 Y1 Y2 Y3] +\n",
      "-0.0625j [Y0 X1 X2 X3] +\n",
      "-0.0625j [Y0 X1 Y2 Y3] +\n",
      "-0.0625j [Y0 Y1 X2 Y3] +\n",
      "0.0625j [Y0 Y1 Y2 X3]\n",
      "Qubit Operator-6: -0.125j [X0 Z1 Y2] +\n",
      "0.125j [X0 Z1 Y2 Z3] +\n",
      "0.125j [Y0 Z1 X2] +\n",
      "-0.125j [Y0 Z1 X2 Z3]\n",
      "Qubit Operator-7: 0.125j [X1 Z2 Y3] +\n",
      "-0.125j [X1 Y3] +\n",
      "-0.125j [Y1 Z2 X3] +\n",
      "0.125j [Y1 X3]\n"
     ]
    }
   ],
   "source": [
    "singlet_gsd_pool = SingletGSD(molecule)\n",
    "singlet_gsd_pool.__dict__\n",
    "\n",
    "\n",
    "for i in range(len(gsd_pool.operators)):\n",
    "    print(f'Fermionic Operator-{i}: {gsd_pool.operators[i]._f_operator}')\n",
    "print('')\n",
    "\n",
    "for i in range(len(gsd_pool.operators)):\n",
    "    qubit_operator = jordan_wigner(gsd_pool.operators[i]._f_operator)\n",
    "    print(f'Qubit Operator-{i}: {qubit_operator}')"
   ]
  },
  {
   "cell_type": "code",
   "execution_count": 85,
   "metadata": {},
   "outputs": [
    {
     "data": {
      "image/png": "[encoded data removed]",
      "text/plain": [
       "<Figure size 1374.44x367.889 with 1 Axes>"
      ]
     },
     "execution_count": 85,
     "metadata": {},
     "output_type": "execute_result"
    }
   ],
   "source": [
    "circuit = gsd_pool.get_circuit([0],[3.14])\n",
    "circuit.draw()"
   ]
  },
  {
   "cell_type": "markdown",
   "metadata": {},
   "source": [
    "### Spin-complemented Generalized Single and Double Excitations"
   ]
  },
  {
   "cell_type": "code",
   "execution_count": 21,
   "metadata": {},
   "outputs": [
    {
     "name": "stdout",
     "output_type": "stream",
     "text": [
      "\n",
      "Operator-0: 0.25 [0^ 2] +\n",
      "0.25 [1^ 3] +\n",
      "-0.25 [2^ 0] +\n",
      "-0.25 [3^ 1]\n",
      "\n",
      "Operator-1: -0.25 [1^ 0^ 2 1] +\n",
      "0.25 [1^ 0^ 3 0] +\n",
      "0.25 [2^ 1^ 1 0] +\n",
      "-0.25 [3^ 0^ 1 0]\n",
      "\n",
      "Operator-2: 0.5 [1^ 0^ 3 2] +\n",
      "-0.5 [3^ 2^ 1 0]\n",
      "\n",
      "Operator-3: -0.25 [2^ 1^ 3 2] +\n",
      "0.25 [3^ 0^ 3 2] +\n",
      "0.25 [3^ 2^ 2 1] +\n",
      "-0.25 [3^ 2^ 3 0]\n"
     ]
    }
   ],
   "source": [
    "spincomp_gsd_pool = SpinCompGSD(molecule)\n",
    "spincomp_gsd_pool.__dict__\n",
    "\n",
    "\n",
    "for i in range(len(spincomp_gsd_pool.operators)):\n",
    "    print(f'\\nOperator-{i}: {spincomp_gsd_pool.operators[i]._f_operator}')\n",
    "    # print(f'\\nOperator-{i}: {type(spincomp_gsd_pool.operators[i]._f_operator)}')"
   ]
  },
  {
   "cell_type": "markdown",
   "metadata": {},
   "source": [
    "### Pauli Pool"
   ]
  },
  {
   "cell_type": "code",
   "execution_count": 26,
   "metadata": {},
   "outputs": [
    {
     "name": "stdout",
     "output_type": "stream",
     "text": [
      "\n",
      "Operator-0: 1j [Y0 Z1 X2]\n",
      "\n",
      "Operator-1: 1j [X0 Z1 Y2]\n",
      "\n",
      "Operator-2: 1j [Y1 Z2 X3]\n",
      "\n",
      "Operator-3: 1j [X1 Z2 Y3]\n",
      "\n",
      "Operator-4: 1j [Z0 Y1 Z2 X3]\n",
      "\n",
      "Operator-5: 1j [Z0 X1 Z2 Y3]\n",
      "\n",
      "Operator-6: 1j [Y0 X2]\n",
      "\n",
      "Operator-7: 1j [X0 Y2]\n",
      "\n",
      "Operator-8: 1j [X0 X1 Y2 X3]\n",
      "\n",
      "Operator-9: 1j [Y0 Y1 Y2 X3]\n",
      "\n",
      "Operator-10: 1j [Y0 X1 X2 X3]\n",
      "\n",
      "Operator-11: 1j [X0 Y1 X2 X3]\n",
      "\n",
      "Operator-12: 1j [Y0 X1 Y2 Y3]\n",
      "\n",
      "Operator-13: 1j [X0 Y1 Y2 Y3]\n",
      "\n",
      "Operator-14: 1j [X0 X1 X2 Y3]\n",
      "\n",
      "Operator-15: 1j [Y0 Y1 X2 Y3]\n",
      "\n",
      "Operator-16: 1j [Y0 Z1 X2 Z3]\n",
      "\n",
      "Operator-17: 1j [X0 Z1 Y2 Z3]\n",
      "\n",
      "Operator-18: 1j [Y1 X3]\n",
      "\n",
      "Operator-19: 1j [X1 Y3]\n"
     ]
    }
   ],
   "source": [
    "pauli_pool = PauliPool(molecule)\n",
    "pauli_pool.__dict__\n",
    "\n",
    "\n",
    "for i in range(len(pauli_pool.operators)):\n",
    "    print(f'\\nOperator-{i}: {pauli_pool.operators[i]._q_operator}')\n",
    "    # print(f'\\nOperator-{i}: {type(pauli_pool.operators[i]._f_operator)}')"
   ]
  },
  {
   "cell_type": "code",
   "execution_count": 86,
   "metadata": {},
   "outputs": [
    {
     "data": {
      "image/png": "[encoded data removed]",
      "text/plain": [
       "<Figure size 789.163x367.889 with 1 Axes>"
      ]
     },
     "execution_count": 86,
     "metadata": {},
     "output_type": "execute_result"
    }
   ],
   "source": [
    "circuit = pauli_pool.get_circuit([1],[3.14])\n",
    "circuit.draw()"
   ]
  },
  {
   "cell_type": "markdown",
   "metadata": {},
   "source": [
    "### Qubit Pool (NoZPauliPool1)"
   ]
  },
  {
   "cell_type": "code",
   "execution_count": 28,
   "metadata": {},
   "outputs": [
    {
     "name": "stdout",
     "output_type": "stream",
     "text": [
      "\n",
      "Operator-0: 1j [Y0 X2]\n",
      "\n",
      "Operator-1: 1j [X0 Y2]\n",
      "\n",
      "Operator-2: 1j [Y1 X3]\n",
      "\n",
      "Operator-3: 1j [X1 Y3]\n",
      "\n",
      "Operator-4: 1j [X0 X1 Y2 X3]\n",
      "\n",
      "Operator-5: 1j [Y0 Y1 Y2 X3]\n",
      "\n",
      "Operator-6: 1j [Y0 X1 X2 X3]\n",
      "\n",
      "Operator-7: 1j [X0 Y1 X2 X3]\n",
      "\n",
      "Operator-8: 1j [Y0 X1 Y2 Y3]\n",
      "\n",
      "Operator-9: 1j [X0 Y1 Y2 Y3]\n",
      "\n",
      "Operator-10: 1j [X0 X1 X2 Y3]\n",
      "\n",
      "Operator-11: 1j [Y0 Y1 X2 Y3]\n"
     ]
    }
   ],
   "source": [
    "qubit_pool = NoZPauliPool1(molecule)\n",
    "qubit_pool.__dict__\n",
    "\n",
    "\n",
    "for i in range(len(qubit_pool.operators)):\n",
    "    print(f'\\nOperator-{i}: {qubit_pool.operators[i]._q_operator}')\n",
    "    # print(f'\\nOperator-{i}: {type(qubit_pool.operators[i]._f_operator)}')"
   ]
  },
  {
   "cell_type": "markdown",
   "metadata": {},
   "source": [
    "### Qubit Pool (NoZPauliPool)"
   ]
  },
  {
   "cell_type": "code",
   "execution_count": 30,
   "metadata": {},
   "outputs": [
    {
     "name": "stdout",
     "output_type": "stream",
     "text": [
      "\n",
      "Operator-0: 1j [Y0 X2]\n",
      "\n",
      "Operator-1: 1j [X0 Y2]\n",
      "\n",
      "Operator-2: 1j [Y1 X3]\n",
      "\n",
      "Operator-3: 1j [X1 Y3]\n",
      "\n",
      "Operator-4: 1j [Y0 X1 X2 X3]\n",
      "\n",
      "Operator-5: 1j [X0 Y1 X2 X3]\n",
      "\n",
      "Operator-6: 1j [X0 X1 Y2 X3]\n",
      "\n",
      "Operator-7: 1j [X0 X1 X2 Y3]\n",
      "\n",
      "Operator-8: 1j [X0 Y1 Y2 Y3]\n",
      "\n",
      "Operator-9: 1j [Y0 X1 Y2 Y3]\n",
      "\n",
      "Operator-10: 1j [Y0 Y1 X2 Y3]\n",
      "\n",
      "Operator-11: 1j [Y0 Y1 Y2 X3]\n"
     ]
    }
   ],
   "source": [
    "qubit_pool = NoZPauliPool(molecule)\n",
    "qubit_pool.__dict__\n",
    "\n",
    "\n",
    "for i in range(len(qubit_pool.operators)):\n",
    "    print(f'\\nOperator-{i}: {qubit_pool.operators[i]._q_operator}')\n",
    "    # print(f'\\nOperator-{i}: {type(qubit_pool.operators[i]._f_operator)}')"
   ]
  },
  {
   "cell_type": "code",
   "execution_count": null,
   "metadata": {},
   "outputs": [],
   "source": [
    "circuit = gsd_pool.get_circuit([1],[3.14])\n",
    "circuit.draw()"
   ]
  },
  {
   "cell_type": "markdown",
   "metadata": {},
   "source": [
    "### Qubit-Excitation Pool"
   ]
  },
  {
   "cell_type": "code",
   "execution_count": 95,
   "metadata": {},
   "outputs": [
    {
     "name": "stdout",
     "output_type": "stream",
     "text": [
      "\n",
      "q_op: 0.5j [X0 Y1] +\n",
      "-0.5j [Y0 X1]\n",
      "term -0.5j [Y0 X1]\n",
      "new pauli: -0.5j [Y0]\n",
      "new pauli: -0.5j [Y0 X1]\n",
      "term 0.5j [X0 Y1]\n",
      "new pauli: 0.5j [X0]\n",
      "new pauli: 0.5j [X0 Y1]\n",
      "new operator: 0.5j [X0 Y1] +\n",
      "-0.5j [Y0 X1]\n",
      "\n",
      "q_op: -0.125j [X0 Z1 Y2] +\n",
      "0.125j [X0 Y2] +\n",
      "0.125j [Y0 Z1 X2] +\n",
      "-0.125j [Y0 X2] +\n",
      "0.125j [Z0 X1 Z2 Y3] +\n",
      "-0.125j [Z0 Y1 Z2 X3] +\n",
      "-0.125j [X1 Z2 Y3] +\n",
      "0.125j [Y1 Z2 X3]\n",
      "term 0.125j [Y1 Z2 X3]\n",
      "new pauli: 0.125j [Y1]\n",
      "new pauli: 0.125j [Y1 X3]\n",
      "term -0.125j [Z0 Y1 Z2 X3]\n",
      "new pauli: -0.125j [Y1]\n",
      "new pauli: -0.125j [Y1 X3]\n",
      "term -0.125j [X1 Z2 Y3]\n",
      "new pauli: -0.125j [X1]\n",
      "new pauli: -0.125j [X1 Y3]\n",
      "term 0.125j [Z0 X1 Z2 Y3]\n",
      "new pauli: 0.125j [X1]\n",
      "new pauli: 0.125j [X1 Y3]\n",
      "term 0.125j [Y0 Z1 X2]\n",
      "new pauli: 0.125j [Y0]\n",
      "new pauli: 0.125j [Y0 X2]\n",
      "term -0.125j [Y0 X2]\n",
      "new pauli: -0.125j [Y0]\n",
      "new pauli: -0.125j [Y0 X2]\n",
      "term -0.125j [X0 Z1 Y2]\n",
      "new pauli: -0.125j [X0]\n",
      "new pauli: -0.125j [X0 Y2]\n",
      "term 0.125j [X0 Y2]\n",
      "new pauli: 0.125j [X0]\n",
      "new pauli: 0.125j [X0 Y2]\n",
      "new operator: 0\n",
      "\n",
      "q_op: -0.125j [X0 X1 X2 Y3] +\n",
      "-0.125j [X0 X1 Y2 X3] +\n",
      "0.125j [X0 Y1 X2 X3] +\n",
      "-0.125j [X0 Y1 Y2 Y3] +\n",
      "0.125j [Y0 X1 X2 X3] +\n",
      "-0.125j [Y0 X1 Y2 Y3] +\n",
      "0.125j [Y0 Y1 X2 Y3] +\n",
      "0.125j [Y0 Y1 Y2 X3]\n",
      "term -0.125j [X0 X1 Y2 X3]\n",
      "new pauli: -0.125j [X0]\n",
      "new pauli: -0.125j [X0 X1]\n",
      "new pauli: -0.125j [X0 X1 Y2]\n",
      "new pauli: -0.125j [X0 X1 Y2 X3]\n",
      "term 0.125j [Y0 Y1 Y2 X3]\n",
      "new pauli: 0.125j [Y0]\n",
      "new pauli: 0.125j [Y0 Y1]\n",
      "new pauli: 0.125j [Y0 Y1 Y2]\n",
      "new pauli: 0.125j [Y0 Y1 Y2 X3]\n",
      "term 0.125j [Y0 X1 X2 X3]\n",
      "new pauli: 0.125j [Y0]\n",
      "new pauli: 0.125j [Y0 X1]\n",
      "new pauli: 0.125j [Y0 X1 X2]\n",
      "new pauli: 0.125j [Y0 X1 X2 X3]\n",
      "term 0.125j [X0 Y1 X2 X3]\n",
      "new pauli: 0.125j [X0]\n",
      "new pauli: 0.125j [X0 Y1]\n",
      "new pauli: 0.125j [X0 Y1 X2]\n",
      "new pauli: 0.125j [X0 Y1 X2 X3]\n",
      "term -0.125j [Y0 X1 Y2 Y3]\n",
      "new pauli: -0.125j [Y0]\n",
      "new pauli: -0.125j [Y0 X1]\n",
      "new pauli: -0.125j [Y0 X1 Y2]\n",
      "new pauli: -0.125j [Y0 X1 Y2 Y3]\n",
      "term -0.125j [X0 Y1 Y2 Y3]\n",
      "new pauli: -0.125j [X0]\n",
      "new pauli: -0.125j [X0 Y1]\n",
      "new pauli: -0.125j [X0 Y1 Y2]\n",
      "new pauli: -0.125j [X0 Y1 Y2 Y3]\n",
      "term -0.125j [X0 X1 X2 Y3]\n",
      "new pauli: -0.125j [X0]\n",
      "new pauli: -0.125j [X0 X1]\n",
      "new pauli: -0.125j [X0 X1 X2]\n",
      "new pauli: -0.125j [X0 X1 X2 Y3]\n",
      "term 0.125j [Y0 Y1 X2 Y3]\n",
      "new pauli: 0.125j [Y0]\n",
      "new pauli: 0.125j [Y0 Y1]\n",
      "new pauli: 0.125j [Y0 Y1 X2]\n",
      "new pauli: 0.125j [Y0 Y1 X2 Y3]\n",
      "new operator: -0.125j [X0 X1 X2 Y3] +\n",
      "-0.125j [X0 X1 Y2 X3] +\n",
      "0.125j [X0 Y1 X2 X3] +\n",
      "-0.125j [X0 Y1 Y2 Y3] +\n",
      "0.125j [Y0 X1 X2 X3] +\n",
      "-0.125j [Y0 X1 Y2 Y3] +\n",
      "0.125j [Y0 Y1 X2 Y3] +\n",
      "0.125j [Y0 Y1 Y2 X3]\n",
      "\n",
      "q_op: -0.125j [X0 Z1 Y2] +\n",
      "0.125j [X0 Z1 Y2 Z3] +\n",
      "0.125j [Y0 Z1 X2] +\n",
      "-0.125j [Y0 Z1 X2 Z3] +\n",
      "-0.125j [X1 Z2 Y3] +\n",
      "0.125j [X1 Y3] +\n",
      "0.125j [Y1 Z2 X3] +\n",
      "-0.125j [Y1 X3]\n",
      "term 0.125j [Y0 Z1 X2]\n",
      "new pauli: 0.125j [Y0]\n",
      "new pauli: 0.125j [Y0 X2]\n",
      "term -0.125j [Y0 Z1 X2 Z3]\n",
      "new pauli: -0.125j [Y0]\n",
      "new pauli: -0.125j [Y0 X2]\n",
      "term -0.125j [X0 Z1 Y2]\n",
      "new pauli: -0.125j [X0]\n",
      "new pauli: -0.125j [X0 Y2]\n",
      "term 0.125j [X0 Z1 Y2 Z3]\n",
      "new pauli: 0.125j [X0]\n",
      "new pauli: 0.125j [X0 Y2]\n",
      "term 0.125j [Y1 Z2 X3]\n",
      "new pauli: 0.125j [Y1]\n",
      "new pauli: 0.125j [Y1 X3]\n",
      "term -0.125j [Y1 X3]\n",
      "new pauli: -0.125j [Y1]\n",
      "new pauli: -0.125j [Y1 X3]\n",
      "term -0.125j [X1 Z2 Y3]\n",
      "new pauli: -0.125j [X1]\n",
      "new pauli: -0.125j [X1 Y3]\n",
      "term 0.125j [X1 Y3]\n",
      "new pauli: 0.125j [X1]\n",
      "new pauli: 0.125j [X1 Y3]\n",
      "new operator: 0\n",
      "\n",
      "Operator-0: 0.5j [X0 Y1] +\n",
      "-0.5j [Y0 X1]\n",
      "\n",
      "Operator-1: -0.125j [X0 X1 X2 Y3] +\n",
      "-0.125j [X0 X1 Y2 X3] +\n",
      "0.125j [X0 Y1 X2 X3] +\n",
      "-0.125j [X0 Y1 Y2 Y3] +\n",
      "0.125j [Y0 X1 X2 X3] +\n",
      "-0.125j [Y0 X1 Y2 Y3] +\n",
      "0.125j [Y0 Y1 X2 Y3] +\n",
      "0.125j [Y0 Y1 Y2 X3]\n"
     ]
    }
   ],
   "source": [
    "qe_pool = QE1(molecule)\n",
    "qe_pool.__dict__\n",
    "\n",
    "\n",
    "for i in range(len(qe_pool.operators)):\n",
    "    print(f'\\nOperator-{i}: {qe_pool.operators[i]._q_operator}')\n",
    "    # print(f'\\nOperator-{i}: {type(qe_pool.operators[i]._f_operator)}')"
   ]
  },
  {
   "cell_type": "code",
   "execution_count": 97,
   "metadata": {},
   "outputs": [
    {
     "name": "stdout",
     "output_type": "stream",
     "text": [
      "\n",
      "Operator-0: 0.5j [X0 Y2] +\n",
      "-0.5j [Y0 X2]\n",
      "\n",
      "Operator-1: 0.5j [X1 Y3] +\n",
      "-0.5j [Y1 X3]\n",
      "\n",
      "Operator-2: -0.125j [X0 X1 X2 Y3] +\n",
      "-0.125j [X0 X1 Y2 X3] +\n",
      "0.125j [X0 Y1 X2 X3] +\n",
      "-0.125j [X0 Y1 Y2 Y3] +\n",
      "0.125j [Y0 X1 X2 X3] +\n",
      "-0.125j [Y0 X1 Y2 Y3] +\n",
      "0.125j [Y0 Y1 X2 Y3] +\n",
      "0.125j [Y0 Y1 Y2 X3]\n",
      "\n",
      "Operator-3: -0.125j [X0 X1 X2 Y3] +\n",
      "0.125j [X0 X1 Y2 X3] +\n",
      "0.125j [X0 Y1 X2 X3] +\n",
      "0.125j [X0 Y1 Y2 Y3] +\n",
      "-0.125j [Y0 X1 X2 X3] +\n",
      "-0.125j [Y0 X1 Y2 Y3] +\n",
      "-0.125j [Y0 Y1 X2 Y3] +\n",
      "0.125j [Y0 Y1 Y2 X3]\n"
     ]
    }
   ],
   "source": [
    "qe_pool = QE(molecule)\n",
    "qe_pool.__dict__\n",
    "\n",
    "\n",
    "for i in range(len(qe_pool.operators)):\n",
    "    print(f'\\nOperator-{i}: {qe_pool.operators[i]._q_operator}')\n",
    "    # print(f'\\nOperator-{i}: {type(qe_pool.operators[i]._f_operator)}')"
   ]
  },
  {
   "cell_type": "code",
   "execution_count": 98,
   "metadata": {},
   "outputs": [
    {
     "data": {
      "image/png": "[encoded data removed]",
      "text/plain": [
       "<Figure size 789.163x367.889 with 1 Axes>"
      ]
     },
     "execution_count": 98,
     "metadata": {},
     "output_type": "execute_result"
    }
   ],
   "source": [
    "circuit = qe_pool.get_circuit([1],[3.14])\n",
    "circuit.draw()"
   ]
  },
  {
   "cell_type": "code",
   "execution_count": 111,
   "metadata": {},
   "outputs": [
    {
     "data": {
      "image/png": "[encoded data removed]",
      "text/plain": [
       "<Figure size 789.163x367.889 with 1 Axes>"
      ]
     },
     "execution_count": 111,
     "metadata": {},
     "output_type": "execute_result"
    }
   ],
   "source": [
    "circuit = qe_pool.get_circuit([2],[3.14])\n",
    "circuit.draw()"
   ]
  },
  {
   "cell_type": "code",
   "execution_count": 99,
   "metadata": {},
   "outputs": [
    {
     "name": "stdout",
     "output_type": "stream",
     "text": [
      "\n",
      "Operator-0: 0.5j [X0 Y1] +\n",
      "-0.5j [Y0 X1]\n",
      "\n",
      "Operator-1: 0.5j [X0 Y2] +\n",
      "-0.5j [Y0 X2]\n",
      "\n",
      "Operator-2: 0.5j [X0 Y3] +\n",
      "-0.5j [Y0 X3]\n",
      "\n",
      "Operator-3: 0.5j [X1 Y2] +\n",
      "-0.5j [Y1 X2]\n",
      "\n",
      "Operator-4: 0.5j [X1 Y3] +\n",
      "-0.5j [Y1 X3]\n",
      "\n",
      "Operator-5: 0.5j [X2 Y3] +\n",
      "-0.5j [Y2 X3]\n",
      "\n",
      "Operator-6: 0.125j [X0 X1 X2 Y3] +\n",
      "0.125j [X0 X1 Y2 X3] +\n",
      "-0.125j [X0 Y1 X2 X3] +\n",
      "0.125j [X0 Y1 Y2 Y3] +\n",
      "-0.125j [Y0 X1 X2 X3] +\n",
      "0.125j [Y0 X1 Y2 Y3] +\n",
      "-0.125j [Y0 Y1 X2 Y3] +\n",
      "-0.125j [Y0 Y1 Y2 X3]\n",
      "\n",
      "Operator-7: 0.125j [X0 X1 X2 Y3] +\n",
      "-0.125j [X0 X1 Y2 X3] +\n",
      "-0.125j [X0 Y1 X2 X3] +\n",
      "-0.125j [X0 Y1 Y2 Y3] +\n",
      "0.125j [Y0 X1 X2 X3] +\n",
      "0.125j [Y0 X1 Y2 Y3] +\n",
      "0.125j [Y0 Y1 X2 Y3] +\n",
      "-0.125j [Y0 Y1 Y2 X3]\n",
      "\n",
      "Operator-8: 0.125j [X0 X1 X2 Y3] +\n",
      "-0.125j [X0 X1 Y2 X3] +\n",
      "0.125j [X0 Y1 X2 X3] +\n",
      "0.125j [X0 Y1 Y2 Y3] +\n",
      "-0.125j [Y0 X1 X2 X3] +\n",
      "-0.125j [Y0 X1 Y2 Y3] +\n",
      "0.125j [Y0 Y1 X2 Y3] +\n",
      "-0.125j [Y0 Y1 Y2 X3]\n"
     ]
    }
   ],
   "source": [
    "qe_pool = QE_All(molecule)\n",
    "qe_pool.__dict__\n",
    "\n",
    "\n",
    "for i in range(len(qe_pool.operators)):\n",
    "    print(f'\\nOperator-{i}: {qe_pool.operators[i]._q_operator}')\n",
    "    # print(f'\\nOperator-{i}: {type(qe_pool.operators[i]._f_operator)}')"
   ]
  },
  {
   "cell_type": "code",
   "execution_count": 101,
   "metadata": {},
   "outputs": [
    {
     "data": {
      "image/png": "[encoded data removed]",
      "text/plain": [
       "<Figure size 789.163x367.889 with 1 Axes>"
      ]
     },
     "execution_count": 101,
     "metadata": {},
     "output_type": "execute_result"
    }
   ],
   "source": [
    "circuit = qe_pool.get_circuit([4],[3.14])\n",
    "circuit.draw()"
   ]
  },
  {
   "cell_type": "markdown",
   "metadata": {},
   "source": [
    "### Coupled Exchange Operator (CEO) Pool"
   ]
  },
  {
   "cell_type": "code",
   "execution_count": 102,
   "metadata": {},
   "outputs": [
    {
     "name": "stdout",
     "output_type": "stream",
     "text": [
      "\n",
      "Operator-0: 0.5j [X0 Y2] +\n",
      "-0.5j [Y0 X2]\n",
      "\n",
      "Operator-1: 0.5j [X1 Y3] +\n",
      "-0.5j [Y1 X3]\n",
      "\n",
      "Operator-2: -0.25j [X0 X1 X2 Y3] +\n",
      "0.25j [X0 Y1 X2 X3] +\n",
      "-0.25j [Y0 X1 Y2 Y3] +\n",
      "0.25j [Y0 Y1 Y2 X3]\n",
      "\n",
      "Operator-3: -0.25j [X0 X1 Y2 X3] +\n",
      "-0.25j [X0 Y1 Y2 Y3] +\n",
      "0.25j [Y0 X1 X2 X3] +\n",
      "0.25j [Y0 Y1 X2 Y3]\n"
     ]
    }
   ],
   "source": [
    "ceo_pool = CEO(molecule)\n",
    "ceo_pool.__dict__\n",
    "\n",
    "\n",
    "for i in range(len(ceo_pool.operators)):\n",
    "    print(f'\\nOperator-{i}: {ceo_pool.operators[i]._q_operator}')\n",
    "    # print(f'\\nOperator-{i}: {type(ceo_pool.operators[i]._f_operator)}')"
   ]
  },
  {
   "cell_type": "code",
   "execution_count": 104,
   "metadata": {},
   "outputs": [
    {
     "data": {
      "image/png": "[encoded data removed]",
      "text/plain": [
       "<Figure size 789.163x367.889 with 1 Axes>"
      ]
     },
     "execution_count": 104,
     "metadata": {},
     "output_type": "execute_result"
    }
   ],
   "source": [
    "circuit = ceo_pool.get_circuit([1],[3.14])\n",
    "circuit.draw()"
   ]
  },
  {
   "cell_type": "code",
   "execution_count": 109,
   "metadata": {},
   "outputs": [
    {
     "data": {
      "image/png": "[encoded data removed]",
      "text/plain": [
       "<Figure size 1458.05x367.889 with 1 Axes>"
      ]
     },
     "execution_count": 109,
     "metadata": {},
     "output_type": "execute_result"
    }
   ],
   "source": [
    "circuit = ceo_pool.get_circuit([2],[3.14])\n",
    "circuit.draw()"
   ]
  },
  {
   "cell_type": "markdown",
   "metadata": {},
   "source": [
    "### OVP CEO Pool"
   ]
  },
  {
   "cell_type": "code",
   "execution_count": 47,
   "metadata": {},
   "outputs": [
    {
     "name": "stdout",
     "output_type": "stream",
     "text": [
      "\n",
      "Operator-0: 0.5j [X0 Y2] +\n",
      "-0.5j [Y0 X2]\n",
      "\n",
      "Operator-1: 0.5j [X1 Y3] +\n",
      "-0.5j [Y1 X3]\n",
      "\n",
      "Operator-2: -0.25j [X0 X1 X2 Y3] +\n",
      "0.25j [X0 Y1 X2 X3] +\n",
      "-0.25j [Y0 X1 Y2 Y3] +\n",
      "0.25j [Y0 Y1 Y2 X3]\n",
      "\n",
      "Operator-3: -0.25j [X0 X1 Y2 X3] +\n",
      "-0.25j [X0 Y1 Y2 Y3] +\n",
      "0.25j [Y0 X1 X2 X3] +\n",
      "0.25j [Y0 Y1 X2 Y3]\n"
     ]
    }
   ],
   "source": [
    "ceo_pool = OVP_CEO(molecule)\n",
    "ceo_pool.__dict__\n",
    "\n",
    "\n",
    "for i in range(len(ceo_pool.operators)):\n",
    "    print(f'\\nOperator-{i}: {ceo_pool.operators[i]._q_operator}')\n",
    "    # print(f'\\nOperator-{i}: {type(ceo_pool.operators[i]._f_operator)}')"
   ]
  },
  {
   "cell_type": "code",
   "execution_count": 112,
   "metadata": {},
   "outputs": [
    {
     "name": "stdout",
     "output_type": "stream",
     "text": [
      "\n",
      "Operator-0: 0.5j [X0 Y2] +\n",
      "-0.5j [Y0 X2]\n",
      "\n",
      "Operator-1: 0.5j [X1 Y3] +\n",
      "-0.5j [Y1 X3]\n",
      "\n",
      "Operator-2: -0.125j [X0 X1 X2 Y3] +\n",
      "-0.125j [X0 X1 Y2 X3] +\n",
      "0.125j [X0 Y1 X2 X3] +\n",
      "-0.125j [X0 Y1 Y2 Y3] +\n",
      "0.125j [Y0 X1 X2 X3] +\n",
      "-0.125j [Y0 X1 Y2 Y3] +\n",
      "0.125j [Y0 Y1 X2 Y3] +\n",
      "0.125j [Y0 Y1 Y2 X3]\n",
      "\n",
      "Operator-3: -0.125j [X0 X1 X2 Y3] +\n",
      "0.125j [X0 X1 Y2 X3] +\n",
      "0.125j [X0 Y1 X2 X3] +\n",
      "0.125j [X0 Y1 Y2 Y3] +\n",
      "-0.125j [Y0 X1 X2 X3] +\n",
      "-0.125j [Y0 X1 Y2 Y3] +\n",
      "-0.125j [Y0 Y1 X2 Y3] +\n",
      "0.125j [Y0 Y1 Y2 X3]\n"
     ]
    }
   ],
   "source": [
    "mvp_ceo_pool = MVP_CEO(molecule)\n",
    "mvp_ceo_pool.__dict__\n",
    "\n",
    "\n",
    "for i in range(len(mvp_ceo_pool.operators)):\n",
    "    print(f'\\nOperator-{i}: {mvp_ceo_pool.operators[i]._q_operator}')\n",
    "    # print(f'\\nOperator-{i}: {type(mvp_ceo_pool.operators[i]._f_operator)}')"
   ]
  },
  {
   "cell_type": "code",
   "execution_count": 113,
   "metadata": {},
   "outputs": [
    {
     "data": {
      "image/png": "[encoded data removed]",
      "text/plain": [
       "<Figure size 2043.33x367.889 with 1 Axes>"
      ]
     },
     "execution_count": 113,
     "metadata": {},
     "output_type": "execute_result"
    }
   ],
   "source": [
    "circuit = mvp_ceo_pool.get_circuit([2],[3.14])\n",
    "circuit.draw()"
   ]
  },
  {
   "cell_type": "code",
   "execution_count": 48,
   "metadata": {},
   "outputs": [
    {
     "name": "stdout",
     "output_type": "stream",
     "text": [
      "\n",
      "Operator-0: 0.5j [X0 Y2] +\n",
      "-0.5j [Y0 X2]\n",
      "\n",
      "Operator-1: 0.5j [X1 Y3] +\n",
      "-0.5j [Y1 X3]\n",
      "\n",
      "Operator-2: -0.125j [X0 X1 X2 Y3] +\n",
      "-0.125j [X0 X1 Y2 X3] +\n",
      "0.125j [X0 Y1 X2 X3] +\n",
      "-0.125j [X0 Y1 Y2 Y3] +\n",
      "0.125j [Y0 X1 X2 X3] +\n",
      "-0.125j [Y0 X1 Y2 Y3] +\n",
      "0.125j [Y0 Y1 X2 Y3] +\n",
      "0.125j [Y0 Y1 Y2 X3]\n",
      "\n",
      "Operator-3: -0.125j [X0 X1 X2 Y3] +\n",
      "0.125j [X0 X1 Y2 X3] +\n",
      "0.125j [X0 Y1 X2 X3] +\n",
      "0.125j [X0 Y1 Y2 Y3] +\n",
      "-0.125j [Y0 X1 X2 X3] +\n",
      "-0.125j [Y0 X1 Y2 Y3] +\n",
      "-0.125j [Y0 Y1 X2 Y3] +\n",
      "0.125j [Y0 Y1 Y2 X3]\n",
      "\n",
      "Operator-4: -0.25j [X0 X1 X2 Y3] +\n",
      "0.25j [X0 Y1 X2 X3] +\n",
      "-0.25j [Y0 X1 Y2 Y3] +\n",
      "0.25j [Y0 Y1 Y2 X3]\n",
      "\n",
      "Operator-5: -0.25j [X0 X1 Y2 X3] +\n",
      "-0.25j [X0 Y1 Y2 Y3] +\n",
      "0.25j [Y0 X1 X2 X3] +\n",
      "0.25j [Y0 Y1 X2 Y3]\n"
     ]
    }
   ],
   "source": [
    "ceo_pool = DVG_CEO(molecule)\n",
    "ceo_pool.__dict__\n",
    "\n",
    "\n",
    "for i in range(len(ceo_pool.operators)):\n",
    "    print(f'\\nOperator-{i}: {ceo_pool.operators[i]._q_operator}')\n",
    "    # print(f'\\nOperator-{i}: {type(ceo_pool.operators[i]._f_operator)}')"
   ]
  },
  {
   "cell_type": "code",
   "execution_count": 49,
   "metadata": {},
   "outputs": [
    {
     "name": "stdout",
     "output_type": "stream",
     "text": [
      "\n",
      "Operator-0: 0.5j [X0 Y2] +\n",
      "-0.5j [Y0 X2]\n",
      "\n",
      "Operator-1: 0.5j [X1 Y3] +\n",
      "-0.5j [Y1 X3]\n",
      "\n",
      "Operator-2: -0.125j [X0 X1 X2 Y3] +\n",
      "-0.125j [X0 X1 Y2 X3] +\n",
      "0.125j [X0 Y1 X2 X3] +\n",
      "-0.125j [X0 Y1 Y2 Y3] +\n",
      "0.125j [Y0 X1 X2 X3] +\n",
      "-0.125j [Y0 X1 Y2 Y3] +\n",
      "0.125j [Y0 Y1 X2 Y3] +\n",
      "0.125j [Y0 Y1 Y2 X3]\n",
      "\n",
      "Operator-3: -0.125j [X0 X1 X2 Y3] +\n",
      "0.125j [X0 X1 Y2 X3] +\n",
      "0.125j [X0 Y1 X2 X3] +\n",
      "0.125j [X0 Y1 Y2 Y3] +\n",
      "-0.125j [Y0 X1 X2 X3] +\n",
      "-0.125j [Y0 X1 Y2 Y3] +\n",
      "-0.125j [Y0 Y1 X2 Y3] +\n",
      "0.125j [Y0 Y1 Y2 X3]\n",
      "\n",
      "Operator-4: -0.25j [X0 X1 X2 Y3] +\n",
      "0.25j [X0 Y1 X2 X3] +\n",
      "-0.25j [Y0 X1 Y2 Y3] +\n",
      "0.25j [Y0 Y1 Y2 X3]\n",
      "\n",
      "Operator-5: -0.25j [X0 X1 Y2 X3] +\n",
      "-0.25j [X0 Y1 Y2 Y3] +\n",
      "0.25j [Y0 X1 X2 X3] +\n",
      "0.25j [Y0 Y1 X2 Y3]\n"
     ]
    }
   ],
   "source": [
    "ceo_pool = DVE_CEO(molecule)\n",
    "ceo_pool.__dict__\n",
    "\n",
    "\n",
    "for i in range(len(ceo_pool.operators)):\n",
    "    print(f'\\nOperator-{i}: {ceo_pool.operators[i]._q_operator}')\n",
    "    # print(f'\\nOperator-{i}: {type(ceo_pool.operators[i]._f_operator)}')"
   ]
  }
 ],
 "metadata": {
  "kernelspec": {
   "display_name": "qiskit-1-2",
   "language": "python",
   "name": "python3"
  },
  "language_info": {
   "codemirror_mode": {
    "name": "ipython",
    "version": 3
   },
   "file_extension": ".py",
   "mimetype": "text/x-python",
   "name": "python",
   "nbconvert_exporter": "python",
   "pygments_lexer": "ipython3",
   "version": "3.12.3"
  }
 },
 "nbformat": 4,
 "nbformat_minor": 2
}
