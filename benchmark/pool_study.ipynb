{
 "cells": [
  {
   "cell_type": "code",
   "execution_count": 12,
   "metadata": {},
   "outputs": [
    {
     "name": "stdout",
     "output_type": "stream",
     "text": [
      "The autoreload extension is already loaded. To reload it, use:\n",
      "  %reload_ext autoreload\n"
     ]
    },
    {
     "data": {
      "text/plain": [
       "'H2'"
      ]
     },
     "execution_count": 12,
     "metadata": {},
     "output_type": "execute_result"
    }
   ],
   "source": [
    "%load_ext autoreload\n",
    "%autoreload 2\n",
    "\n",
    "import sys \n",
    "import os\n",
    "sys.path.append('/home/azhar04/project/1. dev/quantum-dev/ShotOptimized-ADAPT-VQE/')\n",
    "\n",
    "from src.pools import SD, GSD, GSD1, QE\n",
    "from src.molecules import create_h2\n",
    "\n",
    "# Molecule\n",
    "R = 0.742\n",
    "molecule = create_h2(R)\n",
    "molecule.description"
   ]
  },
  {
   "cell_type": "markdown",
   "metadata": {},
   "source": [
    "### Single and Double Excitations"
   ]
  },
  {
   "cell_type": "code",
   "execution_count": 11,
   "metadata": {},
   "outputs": [
    {
     "name": "stdout",
     "output_type": "stream",
     "text": [
      "\n",
      "Operator-0: 0.5 [0^ 2] +\n",
      "-0.5 [2^ 0]\n",
      "\n",
      "Operator-1: 0.5 [1^ 3] +\n",
      "-0.5 [3^ 1]\n",
      "\n",
      "Operator-2: 0.5 [1^ 0^ 3 2] +\n",
      "-0.5 [3^ 2^ 1 0]\n"
     ]
    }
   ],
   "source": [
    "sd_pool = SD(molecule)\n",
    "sd_pool.__dict__\n",
    "\n",
    "for i in range(len(sd_pool.operators)):\n",
    "    print(f'\\nOperator-{i}: {sd_pool.operators[i]._f_operator}')\n",
    "    # print(f'\\nOperator-{i}: {type(sd_pool.operators[i]._f_operator)}')"
   ]
  },
  {
   "cell_type": "markdown",
   "metadata": {},
   "source": [
    "### Generalized Single and Double Excitations\n",
    "where repeated indices are not allowed"
   ]
  },
  {
   "cell_type": "code",
   "execution_count": 8,
   "metadata": {},
   "outputs": [
    {
     "name": "stdout",
     "output_type": "stream",
     "text": [
      "\n",
      "Operator-0: 0.5 [0^ 1] +\n",
      "-0.5 [1^ 0]\n",
      "\n",
      "Operator-1: -0.25 [1^ 0^ 2 1] +\n",
      "0.25 [1^ 0^ 3 0] +\n",
      "0.25 [2^ 1^ 1 0] +\n",
      "-0.25 [3^ 0^ 1 0]\n",
      "\n",
      "Operator-2: 0.5 [1^ 0^ 3 2] +\n",
      "-0.5 [3^ 2^ 1 0]\n",
      "\n",
      "Operator-3: -0.25 [2^ 1^ 3 2] +\n",
      "0.25 [3^ 0^ 3 2] +\n",
      "0.25 [3^ 2^ 2 1] +\n",
      "-0.25 [3^ 2^ 3 0]\n"
     ]
    }
   ],
   "source": [
    "gsd_pool = GSD(molecule)\n",
    "gsd_pool.__dict__\n",
    "\n",
    "\n",
    "for i in range(len(gsd_pool.operators)):\n",
    "    print(f'\\nOperator-{i}: {gsd_pool.operators[i]._f_operator}')\n",
    "    # print(f'\\nOperator-{i}: {type(gsd_pool.operators[i]._f_operator)}')"
   ]
  },
  {
   "cell_type": "markdown",
   "metadata": {},
   "source": [
    "### Generalized Single and Double Excitations\n",
    "where repeated indices are allowed"
   ]
  },
  {
   "cell_type": "code",
   "execution_count": 14,
   "metadata": {},
   "outputs": [
    {
     "name": "stdout",
     "output_type": "stream",
     "text": [
      "\n",
      "Operator-0: 0.5 [0^ 2] +\n",
      "-0.5 [2^ 0]\n",
      "\n",
      "Operator-1: 0.5 [1^ 3] +\n",
      "-0.5 [3^ 1]\n",
      "\n",
      "Operator-2: 0.5 [1^ 0^ 3 0] +\n",
      "-0.5 [3^ 0^ 1 0]\n",
      "\n",
      "Operator-3: -0.5 [1^ 0^ 2 1] +\n",
      "0.5 [2^ 1^ 1 0]\n",
      "\n",
      "Operator-4: 0.5 [1^ 0^ 3 2] +\n",
      "-0.5 [3^ 2^ 1 0]\n",
      "\n",
      "Operator-5: 0.5 [2^ 1^ 3 0] +\n",
      "-0.5 [3^ 0^ 2 1]\n",
      "\n",
      "Operator-6: 0.5 [3^ 0^ 3 2] +\n",
      "-0.5 [3^ 2^ 3 0]\n",
      "\n",
      "Operator-7: 0.5 [2^ 1^ 3 2] +\n",
      "-0.5 [3^ 2^ 2 1]\n"
     ]
    }
   ],
   "source": [
    "gsd_pool = GSD1(molecule)\n",
    "gsd_pool.__dict__\n",
    "\n",
    "\n",
    "for i in range(len(gsd_pool.operators)):\n",
    "    print(f'\\nOperator-{i}: {gsd_pool.operators[i]._f_operator}')\n",
    "    # print(f'\\nOperator-{i}: {type(gsd_pool.operators[i]._f_operator)}')"
   ]
  },
  {
   "cell_type": "code",
   "execution_count": 12,
   "metadata": {},
   "outputs": [
    {
     "data": {
      "text/plain": [
       "{'couple_exchanges': False,\n",
       " 'has_qubit': True,\n",
       " 'frozen_orbitals': [],\n",
       " 'molecule': <openfermionpyscf._pyscf_molecular_data.PyscfMolecularData at 0x7ff6b62355e0>,\n",
       " 'source_ops': None,\n",
       " 'n_so': 2,\n",
       " 'n': 4,\n",
       " 'operators': [<src.pools.PoolOperator at 0x7ff6a4b35ee0>,\n",
       "  <src.pools.PoolOperator at 0x7ff6a4b6abd0>,\n",
       "  <src.pools.PoolOperator at 0x7ff6a4b69310>,\n",
       "  <src.pools.PoolOperator at 0x7ff6a4b69670>],\n",
       " '_ops_on_qubits': {'[0, 2]': [0], '[1, 3]': [1], '[0, 1, 2, 3]': [2, 3]},\n",
       " 'eig_decomp': [None, None, None, None],\n",
       " 'squared_ops': [None, None, None, None],\n",
       " 'parent_range': []}"
      ]
     },
     "execution_count": 12,
     "metadata": {},
     "output_type": "execute_result"
    }
   ],
   "source": [
    "qubit_excitation_pool = QE(molecule)\n",
    "qubit_excitation_pool.__dict__"
   ]
  },
  {
   "cell_type": "code",
   "execution_count": null,
   "metadata": {},
   "outputs": [],
   "source": [
    "qubit_pool = NoZPauliPool(molecule)"
   ]
  }
 ],
 "metadata": {
  "kernelspec": {
   "display_name": "qiskit-1-2",
   "language": "python",
   "name": "python3"
  },
  "language_info": {
   "codemirror_mode": {
    "name": "ipython",
    "version": 3
   },
   "file_extension": ".py",
   "mimetype": "text/x-python",
   "name": "python",
   "nbconvert_exporter": "python",
   "pygments_lexer": "ipython3",
   "version": "3.12.3"
  }
 },
 "nbformat": 4,
 "nbformat_minor": 2
}
