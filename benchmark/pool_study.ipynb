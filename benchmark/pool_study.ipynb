{
 "cells": [
  {
   "cell_type": "code",
   "execution_count": 2,
   "metadata": {},
   "outputs": [],
   "source": [
    "import sys \n",
    "import os\n",
    "sys.path.append('/home/azhar04/project/1. dev/quantum-dev/ShotOptimized-ADAPT-VQE/')\n"
   ]
  },
  {
   "cell_type": "code",
   "execution_count": 13,
   "metadata": {},
   "outputs": [
    {
     "ename": "ImportError",
     "evalue": "cannot import name 'NoZPauliPool' from 'src.pools' (/home/azhar04/project/1. dev/quantum-dev/ShotOptimized-ADAPT-VQE/src/pools.py)",
     "output_type": "error",
     "traceback": [
      "\u001b[0;31m---------------------------------------------------------------------------\u001b[0m",
      "\u001b[0;31mImportError\u001b[0m                               Traceback (most recent call last)",
      "Cell \u001b[0;32mIn[13], line 1\u001b[0m\n\u001b[0;32m----> 1\u001b[0m \u001b[38;5;28;01mfrom\u001b[39;00m \u001b[38;5;21;01msrc\u001b[39;00m\u001b[38;5;21;01m.\u001b[39;00m\u001b[38;5;21;01mpools\u001b[39;00m \u001b[38;5;28;01mimport\u001b[39;00m QE, NoZPauliPool\n\u001b[1;32m      3\u001b[0m \u001b[38;5;28;01mfrom\u001b[39;00m \u001b[38;5;21;01msrc\u001b[39;00m\u001b[38;5;21;01m.\u001b[39;00m\u001b[38;5;21;01mmolecules\u001b[39;00m \u001b[38;5;28;01mimport\u001b[39;00m create_h2\n",
      "\u001b[0;31mImportError\u001b[0m: cannot import name 'NoZPauliPool' from 'src.pools' (/home/azhar04/project/1. dev/quantum-dev/ShotOptimized-ADAPT-VQE/src/pools.py)"
     ]
    }
   ],
   "source": [
    "from src.pools import QE, NoZPauliPool\n",
    "\n",
    "from src.molecules import create_h2"
   ]
  },
  {
   "cell_type": "code",
   "execution_count": 9,
   "metadata": {},
   "outputs": [
    {
     "data": {
      "text/plain": [
       "'H2'"
      ]
     },
     "execution_count": 9,
     "metadata": {},
     "output_type": "execute_result"
    }
   ],
   "source": [
    "# Molecule\n",
    "R = 0.742\n",
    "molecule = create_h2(R)\n",
    "molecule.description"
   ]
  },
  {
   "cell_type": "code",
   "execution_count": 12,
   "metadata": {},
   "outputs": [
    {
     "data": {
      "text/plain": [
       "{'couple_exchanges': False,\n",
       " 'has_qubit': True,\n",
       " 'frozen_orbitals': [],\n",
       " 'molecule': <openfermionpyscf._pyscf_molecular_data.PyscfMolecularData at 0x7ff6b62355e0>,\n",
       " 'source_ops': None,\n",
       " 'n_so': 2,\n",
       " 'n': 4,\n",
       " 'operators': [<src.pools.PoolOperator at 0x7ff6a4b35ee0>,\n",
       "  <src.pools.PoolOperator at 0x7ff6a4b6abd0>,\n",
       "  <src.pools.PoolOperator at 0x7ff6a4b69310>,\n",
       "  <src.pools.PoolOperator at 0x7ff6a4b69670>],\n",
       " '_ops_on_qubits': {'[0, 2]': [0], '[1, 3]': [1], '[0, 1, 2, 3]': [2, 3]},\n",
       " 'eig_decomp': [None, None, None, None],\n",
       " 'squared_ops': [None, None, None, None],\n",
       " 'parent_range': []}"
      ]
     },
     "execution_count": 12,
     "metadata": {},
     "output_type": "execute_result"
    }
   ],
   "source": [
    "qubit_excitation_pool = QE(molecule)\n",
    "qubit_excitation_pool.__dict__"
   ]
  },
  {
   "cell_type": "code",
   "execution_count": null,
   "metadata": {},
   "outputs": [],
   "source": [
    "qubit_pool = NoZPauliPool(molecule)"
   ]
  }
 ],
 "metadata": {
  "kernelspec": {
   "display_name": "qiskit-1-2",
   "language": "python",
   "name": "python3"
  },
  "language_info": {
   "codemirror_mode": {
    "name": "ipython",
    "version": 3
   },
   "file_extension": ".py",
   "mimetype": "text/x-python",
   "name": "python",
   "nbconvert_exporter": "python",
   "pygments_lexer": "ipython3",
   "version": "3.12.3"
  }
 },
 "nbformat": 4,
 "nbformat_minor": 2
}
