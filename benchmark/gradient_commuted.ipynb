{
 "cells": [
  {
   "cell_type": "code",
   "execution_count": 12,
   "metadata": {},
   "outputs": [
    {
     "name": "stdout",
     "output_type": "stream",
     "text": [
      "The autoreload extension is already loaded. To reload it, use:\n",
      "  %reload_ext autoreload\n"
     ]
    },
    {
     "data": {
      "text/plain": [
       "'H2'"
      ]
     },
     "execution_count": 12,
     "metadata": {},
     "output_type": "execute_result"
    }
   ],
   "source": [
    "%load_ext autoreload\n",
    "%autoreload 2\n",
    "\n",
    "import sys \n",
    "import os\n",
    "sys.path.append('/home/azhar04/project/1. dev/quantum-dev/ShotOptimized-ADAPT-VQE/')\n",
    "\n",
    "from openfermion.transforms import jordan_wigner\n",
    "from openfermion.utils import commutator\n",
    "\n",
    "from src.pools import SD, GSD, GSD1, SingletGSD, SpinCompGSD, PauliPool,  NoZPauliPool1, NoZPauliPool, QE, QE1, QE_All, CEO, OVP_CEO, DVG_CEO, DVE_CEO, MVP_CEO\n",
    "from src.molecules import create_h2\n",
    "from src.utilities import to_qiskit_operator\n",
    "\n",
    "# Molecule\n",
    "R = 0.742\n",
    "molecule = create_h2(R)\n",
    "molecule.description"
   ]
  },
  {
   "cell_type": "code",
   "execution_count": 18,
   "metadata": {},
   "outputs": [
    {
     "data": {
      "text/plain": [
       "-0.0996319255760924 [] +\n",
       "-0.04533060139114829 [X0 X1 Y2 Y3] +\n",
       "0.04533060139114829 [X0 Y1 Y2 X3] +\n",
       "0.04533060139114829 [Y0 X1 X2 Y3] +\n",
       "-0.04533060139114829 [Y0 Y1 X2 X3] +\n",
       "0.17110568429296397 [Z0] +\n",
       "0.1685935681755208 [Z0 Z1] +\n",
       "0.1205103673498828 [Z0 Z2] +\n",
       "0.1658409687410311 [Z0 Z3] +\n",
       "0.17110568429296397 [Z1] +\n",
       "0.1658409687410311 [Z1 Z2] +\n",
       "0.1205103673498828 [Z1 Z3] +\n",
       "-0.22250984629381015 [Z2] +\n",
       "0.1743208433444256 [Z2 Z3] +\n",
       "-0.22250984629381015 [Z3]"
      ]
     },
     "execution_count": 18,
     "metadata": {},
     "output_type": "execute_result"
    }
   ],
   "source": [
    "H = molecule.get_molecular_hamiltonian()\n",
    "Hq = jordan_wigner(H)\n",
    "Hq"
   ]
  },
  {
   "cell_type": "markdown",
   "metadata": {},
   "source": [
    "### Molecular Hamiltonian"
   ]
  },
  {
   "cell_type": "code",
   "execution_count": 20,
   "metadata": {},
   "outputs": [
    {
     "data": {
      "text/plain": [
       "[SparsePauliOp(['YYXX', 'IIII'],\n",
       "               coeffs=[-0.0453306 +0.j, -0.09963193+0.j]),\n",
       " SparsePauliOp(['XYYX'],\n",
       "               coeffs=[0.0453306+0.j]),\n",
       " SparsePauliOp(['YXXY'],\n",
       "               coeffs=[0.0453306+0.j]),\n",
       " SparsePauliOp(['XXYY'],\n",
       "               coeffs=[-0.0453306+0.j]),\n",
       " SparsePauliOp(['IIIZ', 'IIZI', 'IZII', 'ZIII', 'IIZZ', 'IZIZ', 'ZIIZ', 'IZZI', 'ZIZI', 'ZZII'],\n",
       "               coeffs=[ 0.17110568+0.j,  0.17110568+0.j, -0.22250985+0.j, -0.22250985+0.j,\n",
       "   0.16859357+0.j,  0.12051037+0.j,  0.16584097+0.j,  0.16584097+0.j,\n",
       "   0.12051037+0.j,  0.17432084+0.j])]"
      ]
     },
     "execution_count": 20,
     "metadata": {},
     "output_type": "execute_result"
    }
   ],
   "source": [
    "Hqiskit = to_qiskit_operator(Hq)\n",
    "Hqiskit_commuted = Hqiskit.group_commuting(qubit_wise=True)\n",
    "Hqiskit_commuted"
   ]
  },
  {
   "cell_type": "markdown",
   "metadata": {},
   "source": [
    "### Fermionic GSD Pool"
   ]
  },
  {
   "cell_type": "code",
   "execution_count": 30,
   "metadata": {},
   "outputs": [
    {
     "name": "stdout",
     "output_type": "stream",
     "text": [
      "Grad Obs-0: ['IXZX', 'IYZY', 'IXIX', 'IYIY', 'ZXZX', 'ZYZY', 'YZYZ', 'YIYI', 'XZXZ',\n",
      " 'XIXI']\n",
      "Grad Obs-1: ['XZXI', 'YZYI', 'XZXZ', 'YZYZ', 'XIXI', 'YIYI', 'ZXZX', 'IXIX', 'ZYZY',\n",
      " 'IYIY']\n",
      "Grad Obs-2: ['XZXI', 'XZXZ', 'YZYI', 'YZYZ', 'XIXI', 'XIXZ', 'YIYI', 'YIYZ', 'ZXZX',\n",
      " 'IXIX', 'ZYZY', 'IYIY']\n",
      "Grad Obs-3: ['IXZX', 'IXIX', 'IYZY', 'IYIY', 'ZXZX', 'ZXIX', 'ZYZY', 'ZYIY', 'YZYZ',\n",
      " 'YIYI', 'XZXZ', 'XIXI']\n",
      "Grad Obs-4: ['XYXY', 'XYYX', 'XXXX', 'XXYY', 'YYXX', 'YYYY', 'YXXY', 'YXYX', 'ZIII',\n",
      " 'ZIZZ', 'ZZIZ', 'ZZZI', 'IIIZ', 'IIZI', 'IZII', 'IZZZ']\n",
      "Grad Obs-5: ['ZIZZ', 'ZZIZ', 'ZIII', 'ZZZI', 'IIIZ', 'IZZZ', 'IIZI', 'IZII']\n",
      "Grad Obs-6: ['IXZX', 'ZXZX', 'IYZY', 'ZYZY', 'IXIX', 'ZXIX', 'IYIY', 'ZYIY', 'YZYZ',\n",
      " 'YIYI', 'XZXZ', 'XIXI']\n",
      "Grad Obs-7: ['XZXI', 'XIXI', 'YZYI', 'YIYI', 'XZXZ', 'XIXZ', 'YZYZ', 'YIYZ', 'ZXZX',\n",
      " 'IXIX', 'ZYZY', 'IYIY']\n"
     ]
    }
   ],
   "source": [
    "gsd_pool = GSD1(molecule)\n",
    "gsd_pool.__dict__\n",
    "\n",
    "\n",
    "# for i in range(len(gsd_pool.operators)):\n",
    "#     print(f'Fermionic Operator-{i}: {gsd_pool.operators[i]._f_operator}')\n",
    "# print('')\n",
    "\n",
    "for i in range(len(gsd_pool.operators)):\n",
    "    qubit_operator = jordan_wigner(gsd_pool.operators[i]._f_operator)\n",
    "    grad_obs = commutator(Hq, qubit_operator)\n",
    "    qiskit_op = to_qiskit_operator(grad_obs)\n",
    "    # print(f'Qubit Operator-{i}: {qubit_operator}')\n",
    "    print(f'Grad Obs-{i}: {qiskit_op.paulis}')"
   ]
  },
  {
   "cell_type": "markdown",
   "metadata": {},
   "source": [
    "### Qubit Pool"
   ]
  },
  {
   "cell_type": "code",
   "execution_count": 25,
   "metadata": {},
   "outputs": [
    {
     "name": "stdout",
     "output_type": "stream",
     "text": [
      "[H,Ak] : Grad Obs-0: ['IXIX', 'IYIY', 'IXZX', 'ZXIX', 'IYZY', 'ZYIY']\n",
      "[H,Ak] : Grad Obs-1: ['IYIY', 'IXIX', 'IYZY', 'ZYIY', 'IXZX', 'ZXIX']\n",
      "[H,Ak] : Grad Obs-2: ['XIXI', 'YIYI', 'XIXZ', 'YIYZ', 'XZXI', 'YZYI']\n",
      "[H,Ak] : Grad Obs-3: ['YIYI', 'XIXI', 'YIYZ', 'XIXZ', 'YZYI', 'XZXI']\n",
      "[H,Ak] : Grad Obs-4: ['XXXX', 'XXYY', 'XYXY', 'YXXY', 'ZZIZ', 'IZZZ', 'ZIII', 'IIZI']\n",
      "[H,Ak] : Grad Obs-5: ['XXYY', 'XXXX', 'XYYX', 'YXYX', 'ZZZI', 'IZII', 'ZIZZ', 'IIIZ']\n",
      "[H,Ak] : Grad Obs-6: ['XYXY', 'XYYX', 'XXXX', 'YYXX', 'ZIII', 'IIZI', 'ZZIZ', 'IZZZ']\n",
      "[H,Ak] : Grad Obs-7: ['YXXY', 'YXYX', 'YYXX', 'XXXX', 'IZII', 'ZZZI', 'IIIZ', 'ZIZZ']\n",
      "[H,Ak] : Grad Obs-8: ['YYYY', 'YYXX', 'YXYX', 'XYYX', 'IIZI', 'ZIII', 'IZZZ', 'ZZIZ']\n",
      "[H,Ak] : Grad Obs-9: ['YYXX', 'YYYY', 'YXXY', 'XYXY', 'IIIZ', 'ZIZZ', 'IZII', 'ZZZI']\n",
      "[H,Ak] : Grad Obs-10: ['YXYX', 'YXXY', 'YYYY', 'XXYY', 'IZZZ', 'ZZIZ', 'IIZI', 'ZIII']\n",
      "[H,Ak] : Grad Obs-11: ['XYYX', 'XYXY', 'XXYY', 'YYYY', 'ZIZZ', 'IIIZ', 'ZZZI', 'IZII']\n"
     ]
    }
   ],
   "source": [
    "qubit_pool = NoZPauliPool(molecule)\n",
    "\n",
    "for k in range(len(qubit_pool.operators)):\n",
    "    Ak = qubit_pool.operators[k]._q_operator\n",
    "    # print(f'\\nAk : Operator-{k}: {Ak}')\n",
    "    \n",
    "    grad_obs = commutator(Hq, Ak)\n",
    "    # print(f'[H,Ak] : Grad Obs-{k}: {grad_obs}')\n",
    "\n",
    "    grad_obs_qiskit = to_qiskit_operator(grad_obs)\n",
    "    print(f'[H,Ak] : Grad Obs-{k}: {grad_obs_qiskit.paulis}')\n",
    "    # print(f'\\nOperator-{i}: {type(qubit_pool.operators[i]._f_operator)}')"
   ]
  },
  {
   "cell_type": "markdown",
   "metadata": {},
   "source": [
    "### Qubit-Excitation Pool"
   ]
  },
  {
   "cell_type": "code",
   "execution_count": 31,
   "metadata": {},
   "outputs": [
    {
     "name": "stdout",
     "output_type": "stream",
     "text": [
      "[H,Ak] : Grad Obs-0: ['IXIX', 'IYIY', 'IXZX', 'IYZY', 'ZXIX', 'ZYIY']\n",
      "[H,Ak] : Grad Obs-1: ['XIXI', 'YIYI', 'XIXZ', 'YIYZ', 'XZXI', 'YZYI']\n",
      "[H,Ak] : Grad Obs-2: ['XXXX', 'YYXX', 'XYXY', 'YXXY', 'XYYX', 'YXYX', 'XXYY', 'YYYY', 'ZZIZ',\n",
      " 'IIIZ', 'ZIII', 'IZII', 'ZIZZ', 'IZZZ', 'ZZZI', 'IIZI']\n",
      "[H,Ak] : Grad Obs-3: ['ZIII', 'IIIZ', 'ZIZZ', 'IIZI', 'ZZIZ', 'IZII', 'ZZZI', 'IZZZ']\n"
     ]
    }
   ],
   "source": [
    "qe_pool = QE(molecule)\n",
    "\n",
    "\n",
    "for k in range(len(qe_pool.operators)):\n",
    "    Ak = qe_pool.operators[k]._q_operator\n",
    "    # print(f'\\nAk : Operator-{k}: {Ak}')\n",
    "    \n",
    "    grad_obs = commutator(Hq, Ak)\n",
    "    # print(f'[H,Ak] : Grad Obs-{k}: {grad_obs}')\n",
    "\n",
    "    grad_obs_qiskit = to_qiskit_operator(grad_obs)\n",
    "    print(f'[H,Ak] : Grad Obs-{k}: {grad_obs_qiskit.paulis}')\n",
    "    # print(f'\\nOperator-{i}: {type(qe_pool.operators[i]._f_operator)}')"
   ]
  }
 ],
 "metadata": {
  "kernelspec": {
   "display_name": "qiskit-1-2",
   "language": "python",
   "name": "python3"
  },
  "language_info": {
   "codemirror_mode": {
    "name": "ipython",
    "version": 3
   },
   "file_extension": ".py",
   "mimetype": "text/x-python",
   "name": "python",
   "nbconvert_exporter": "python",
   "pygments_lexer": "ipython3",
   "version": "3.12.3"
  }
 },
 "nbformat": 4,
 "nbformat_minor": 2
}
