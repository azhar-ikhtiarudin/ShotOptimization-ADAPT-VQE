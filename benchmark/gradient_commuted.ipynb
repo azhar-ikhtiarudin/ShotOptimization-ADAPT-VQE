{
 "cells": [
  {
   "cell_type": "code",
   "execution_count": 6,
   "metadata": {},
   "outputs": [
    {
     "name": "stdout",
     "output_type": "stream",
     "text": [
      "The autoreload extension is already loaded. To reload it, use:\n",
      "  %reload_ext autoreload\n"
     ]
    },
    {
     "data": {
      "text/plain": [
       "'H2'"
      ]
     },
     "execution_count": 6,
     "metadata": {},
     "output_type": "execute_result"
    }
   ],
   "source": [
    "%load_ext autoreload\n",
    "%autoreload 2\n",
    "\n",
    "import sys \n",
    "import os\n",
    "sys.path.append('/home/azhar04/project/1. dev/quantum-dev/ShotOptimized-ADAPT-VQE/')\n",
    "\n",
    "from openfermion.transforms import jordan_wigner\n",
    "from openfermion.utils import commutator\n",
    "\n",
    "from src.pools import SD, GSD, GSD1, SingletGSD, SpinCompGSD, PauliPool,  NoZPauliPool1, NoZPauliPool, QE, QE1, QE_All, CEO, OVP_CEO, DVG_CEO, DVE_CEO, MVP_CEO\n",
    "from src.molecules import create_h2\n",
    "\n",
    "# Molecule\n",
    "R = 0.742\n",
    "molecule = create_h2(R)\n",
    "molecule.description"
   ]
  },
  {
   "cell_type": "code",
   "execution_count": 5,
   "metadata": {},
   "outputs": [
    {
     "data": {
      "text/plain": [
       "-0.0996319255760924 [] +\n",
       "-0.04533060139114829 [X0 X1 Y2 Y3] +\n",
       "0.04533060139114829 [X0 Y1 Y2 X3] +\n",
       "0.04533060139114829 [Y0 X1 X2 Y3] +\n",
       "-0.04533060139114829 [Y0 Y1 X2 X3] +\n",
       "0.17110568429296397 [Z0] +\n",
       "0.1685935681755208 [Z0 Z1] +\n",
       "0.1205103673498828 [Z0 Z2] +\n",
       "0.1658409687410311 [Z0 Z3] +\n",
       "0.17110568429296397 [Z1] +\n",
       "0.1658409687410311 [Z1 Z2] +\n",
       "0.1205103673498828 [Z1 Z3] +\n",
       "-0.22250984629381015 [Z2] +\n",
       "0.1743208433444256 [Z2 Z3] +\n",
       "-0.22250984629381015 [Z3]"
      ]
     },
     "execution_count": 5,
     "metadata": {},
     "output_type": "execute_result"
    }
   ],
   "source": [
    "H = molecule.get_molecular_hamiltonian()\n",
    "Hq = jordan_wigner(H)\n",
    "Hq"
   ]
  },
  {
   "cell_type": "markdown",
   "metadata": {},
   "source": [
    "Qubit Commutator"
   ]
  },
  {
   "cell_type": "code",
   "execution_count": null,
   "metadata": {},
   "outputs": [
    {
     "name": "stdout",
     "output_type": "stream",
     "text": [
      "\n",
      "Operator-0: 1j [Y0 X2]\n",
      "Grad Obs-0: (0.3371871363510416-0j) [X0 Z1 X2] +\n",
      "(0.34221136858592793-0j) [X0 X2] +\n",
      "(0.3316819374820622-0j) [X0 X2 Z3] +\n",
      "(-0.3316819374820622+0j) [Y0 Z1 Y2] +\n",
      "(0.4450196925876203-0j) [Y0 Y2] +\n",
      "(-0.3486416866888512+0j) [Y0 Y2 Z3]\n",
      "\n",
      "Operator-1: 1j [X0 Y2]\n",
      "Grad Obs-1: (0.3316819374820622-0j) [X0 Z1 X2] +\n",
      "(-0.4450196925876203+0j) [X0 X2] +\n",
      "(0.3486416866888512-0j) [X0 X2 Z3] +\n",
      "(-0.3371871363510416+0j) [Y0 Z1 Y2] +\n",
      "(-0.34221136858592793+0j) [Y0 Y2] +\n",
      "(-0.3316819374820622+0j) [Y0 Y2 Z3]\n",
      "\n",
      "Operator-2: 1j [Y1 X3]\n",
      "Grad Obs-2: (0.3371871363510416-0j) [Z0 X1 X3] +\n",
      "(-0.3316819374820622+0j) [Z0 Y1 Y3] +\n",
      "(0.3316819374820622-0j) [X1 Z2 X3] +\n",
      "(0.34221136858592793-0j) [X1 X3] +\n",
      "(-0.3486416866888512+0j) [Y1 Z2 Y3] +\n",
      "(0.4450196925876203-0j) [Y1 Y3]\n",
      "\n",
      "Operator-3: 1j [X1 Y3]\n",
      "Grad Obs-3: (0.3316819374820622-0j) [Z0 X1 X3] +\n",
      "(-0.3371871363510416+0j) [Z0 Y1 Y3] +\n",
      "(0.3486416866888512-0j) [X1 Z2 X3] +\n",
      "(-0.4450196925876203+0j) [X1 X3] +\n",
      "(-0.3316819374820622+0j) [Y1 Z2 Y3] +\n",
      "(-0.34221136858592793+0j) [Y1 Y3]\n",
      "\n",
      "Operator-4: 1j [Y0 X1 X2 X3]\n",
      "Grad Obs-4: (0.34221136858592793-0j) [X0 X1 X2 X3] +\n",
      "(0.4450196925876203-0j) [Y0 X1 X2 Y3] +\n",
      "(0.4450196925876203-0j) [Y0 X1 Y2 X3] +\n",
      "(-0.34221136858592793+0j) [Y0 Y1 X2 X3] +\n",
      "(0.09066120278229658+0j) [Z0 Z1 Z2] +\n",
      "(-0.09066120278229658+0j) [Z0 Z2 Z3] +\n",
      "(-0.09066120278229658+0j) [Z1] +\n",
      "(0.09066120278229658-0j) [Z3]\n",
      "\n",
      "Operator-5: 1j [X0 Y1 X2 X3]\n",
      "Grad Obs-5: (0.34221136858592793-0j) [X0 X1 X2 X3] +\n",
      "(0.4450196925876203-0j) [X0 Y1 X2 Y3] +\n",
      "(0.4450196925876203-0j) [X0 Y1 Y2 X3] +\n",
      "(-0.34221136858592793+0j) [Y0 Y1 X2 X3] +\n",
      "(-0.09066120278229658+0j) [Z0] +\n",
      "(0.09066120278229658-0j) [Z0 Z1 Z3] +\n",
      "(-0.09066120278229658+0j) [Z1 Z2 Z3] +\n",
      "(0.09066120278229658+0j) [Z2]\n",
      "\n",
      "Operator-6: 1j [X0 X1 Y2 X3]\n",
      "Grad Obs-6: (-0.4450196925876203+0j) [X0 X1 X2 X3] +\n",
      "(0.4450196925876203-0j) [X0 X1 Y2 Y3] +\n",
      "(-0.34221136858592793+0j) [X0 Y1 Y2 X3] +\n",
      "(-0.34221136858592793+0j) [Y0 X1 Y2 X3] +\n",
      "(-0.09066120278229658+0j) [Z0 Z1 Z2] +\n",
      "(0.09066120278229658-0j) [Z0 Z2 Z3] +\n",
      "(0.09066120278229658+0j) [Z1] +\n",
      "(-0.09066120278229658+0j) [Z3]\n",
      "\n",
      "Operator-7: 1j [X0 X1 X2 Y3]\n",
      "Grad Obs-7: (-0.4450196925876203+0j) [X0 X1 X2 X3] +\n",
      "(0.4450196925876203-0j) [X0 X1 Y2 Y3] +\n",
      "(-0.34221136858592793+0j) [X0 Y1 X2 Y3] +\n",
      "(-0.34221136858592793+0j) [Y0 X1 X2 Y3] +\n",
      "(0.09066120278229658+0j) [Z0] +\n",
      "(-0.09066120278229658+0j) [Z0 Z1 Z3] +\n",
      "(0.09066120278229658-0j) [Z1 Z2 Z3] +\n",
      "(-0.09066120278229658+0j) [Z2]\n",
      "\n",
      "Operator-8: 1j [X0 Y1 Y2 Y3]\n",
      "Grad Obs-8: (0.34221136858592793-0j) [X0 X1 Y2 Y3] +\n",
      "(-0.4450196925876203+0j) [X0 Y1 X2 Y3] +\n",
      "(-0.4450196925876203+0j) [X0 Y1 Y2 X3] +\n",
      "(-0.34221136858592793+0j) [Y0 Y1 Y2 Y3] +\n",
      "(-0.09066120278229658+0j) [Z0 Z1 Z2] +\n",
      "(0.09066120278229658-0j) [Z0 Z2 Z3] +\n",
      "(0.09066120278229658+0j) [Z1] +\n",
      "(-0.09066120278229658+0j) [Z3]\n",
      "\n",
      "Operator-9: 1j [Y0 X1 Y2 Y3]\n",
      "Grad Obs-9: (0.34221136858592793-0j) [X0 X1 Y2 Y3] +\n",
      "(-0.4450196925876203+0j) [Y0 X1 X2 Y3] +\n",
      "(-0.4450196925876203+0j) [Y0 X1 Y2 X3] +\n",
      "(-0.34221136858592793+0j) [Y0 Y1 Y2 Y3] +\n",
      "(0.09066120278229658+0j) [Z0] +\n",
      "(-0.09066120278229658+0j) [Z0 Z1 Z3] +\n",
      "(0.09066120278229658-0j) [Z1 Z2 Z3] +\n",
      "(-0.09066120278229658+0j) [Z2]\n",
      "\n",
      "Operator-10: 1j [Y0 Y1 X2 Y3]\n",
      "Grad Obs-10: (0.34221136858592793-0j) [X0 Y1 X2 Y3] +\n",
      "(0.34221136858592793-0j) [Y0 X1 X2 Y3] +\n",
      "(-0.4450196925876203+0j) [Y0 Y1 X2 X3] +\n",
      "(0.4450196925876203-0j) [Y0 Y1 Y2 Y3] +\n",
      "(0.09066120278229658+0j) [Z0 Z1 Z2] +\n",
      "(-0.09066120278229658+0j) [Z0 Z2 Z3] +\n",
      "(-0.09066120278229658+0j) [Z1] +\n",
      "(0.09066120278229658+0j) [Z3]\n",
      "\n",
      "Operator-11: 1j [Y0 Y1 Y2 X3]\n",
      "Grad Obs-11: (0.34221136858592793-0j) [X0 Y1 Y2 X3] +\n",
      "(0.34221136858592793-0j) [Y0 X1 Y2 X3] +\n",
      "(-0.4450196925876203+0j) [Y0 Y1 X2 X3] +\n",
      "(0.4450196925876203-0j) [Y0 Y1 Y2 Y3] +\n",
      "(-0.09066120278229658+0j) [Z0] +\n",
      "(0.09066120278229658-0j) [Z0 Z1 Z3] +\n",
      "(-0.09066120278229658+0j) [Z1 Z2 Z3] +\n",
      "(0.09066120278229658+0j) [Z2]\n"
     ]
    }
   ],
   "source": [
    "qubit_pool = NoZPauliPool(molecule)\n",
    "\n",
    "for k in range(len(qubit_pool.operators)):\n",
    "    Ak = qubit_pool.operators[k]._q_operator\n",
    "    print(f'\\nOperator-{k}: {Ak}')\n",
    "    \n",
    "    grad_obs = commutator(Hq, Ak)\n",
    "    print(f'Grad Obs-{k}: {grad_obs}')\n",
    "    # print(f'\\nOperator-{i}: {type(qubit_pool.operators[i]._f_operator)}')"
   ]
  }
 ],
 "metadata": {
  "kernelspec": {
   "display_name": "qiskit-1-2",
   "language": "python",
   "name": "python3"
  },
  "language_info": {
   "codemirror_mode": {
    "name": "ipython",
    "version": 3
   },
   "file_extension": ".py",
   "mimetype": "text/x-python",
   "name": "python",
   "nbconvert_exporter": "python",
   "pygments_lexer": "ipython3",
   "version": "3.12.3"
  }
 },
 "nbformat": 4,
 "nbformat_minor": 2
}
