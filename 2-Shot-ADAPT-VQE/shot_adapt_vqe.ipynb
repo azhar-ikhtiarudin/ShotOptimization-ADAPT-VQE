{
 "cells": [
  {
   "cell_type": "code",
   "execution_count": 1,
   "metadata": {},
   "outputs": [
    {
     "name": "stdout",
     "output_type": "stream",
     "text": [
      "/home/azhar04/anaconda3/envs/qiskit-1-2/bin/python\n"
     ]
    }
   ],
   "source": [
    "%load_ext autoreload\n",
    "%autoreload 2\n",
    "\n",
    "import sys\n",
    "sys.path.append('/home/azhar04/project/1. dev/quantum-dev/ShotOptimized-ADAPT-VQE/2-Shot-ADAPT-VQE/')\n",
    "print(sys.executable)"
   ]
  },
  {
   "cell_type": "code",
   "execution_count": null,
   "metadata": {},
   "outputs": [],
   "source": [
    "from src.pools import QE\n",
    "from src.molecules import create_h2, create_h4\n",
    "\n",
    "from algorithms.adapt_vqe import AdaptVQE\n",
    "\n",
    "r = 0.742\n",
    "molecule = create_h2(r)\n",
    "pool = QE(molecule)\n",
    "\n",
    "adapt_vqe = AdaptVQE(pool=pool,\n",
    "                    molecule=molecule,\n",
    "                    max_adapt_iter=30,\n",
    "                    max_opt_iter=100,\n",
    "                    vrb=True\n",
    "                    )\n",
    "\n",
    "# print(pool)\n",
    "adapt_vqe.run()"
   ]
  }
 ],
 "metadata": {
  "kernelspec": {
   "display_name": "qiskit-1-2",
   "language": "python",
   "name": "python3"
  },
  "language_info": {
   "codemirror_mode": {
    "name": "ipython",
    "version": 3
   },
   "file_extension": ".py",
   "mimetype": "text/x-python",
   "name": "python",
   "nbconvert_exporter": "python",
   "pygments_lexer": "ipython3",
   "version": "3.12.3"
  }
 },
 "nbformat": 4,
 "nbformat_minor": 2
}
