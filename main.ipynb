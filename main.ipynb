{
 "cells": [
  {
   "cell_type": "code",
   "execution_count": 7,
   "metadata": {},
   "outputs": [],
   "source": [
    "from src.adapt_vqe import AdaptVQE\n",
    "from src.data_type import AdaptData\n",
    "\n",
    "from src.helper import pauliX, pauliToCircuit\n",
    "from src.operator_pool import fermionicPool, qubitPool\n",
    "from src.molecular_def import h2\n",
    "\n",
    "import numpy as np\n",
    "import matplotlib.pyplot as plt\n",
    "\n",
    "from qiskit import (QuantumCircuit, ClassicalRegister, QuantumRegister)\n",
    "from qiskit_aer import QasmSimulator"
   ]
  },
  {
   "cell_type": "code",
   "execution_count": 2,
   "metadata": {},
   "outputs": [
    {
     "name": "stdout",
     "output_type": "stream",
     "text": [
      "Pool size: 4\n",
      "fermionOp: 0.5 [0^ 2] +\n",
      "0.5 [1^ 3] +\n",
      "-0.5 [2^ 0] +\n",
      "-0.5 [3^ 1] \n",
      "\n",
      "qubitOp: 0.25j [X0 Z1 Y2] +\n",
      "-0.25j [Y0 Z1 X2] +\n",
      "0.25j [X1 Z2 Y3] +\n",
      "-0.25j [Y1 Z2 X3] \n",
      "\n",
      "qubitOp 2: 1j [Y0 Z1 X2] \n",
      "\n",
      "qubitOp 2: 1j [X0 Z1 Y2] \n",
      "\n",
      "qubitOp 2: 1j [Y1 Z2 X3] \n",
      "\n",
      "qubitOp 2: 1j [X1 Z2 Y3] \n",
      "\n",
      "Pool Size: 4\n",
      "fermionOp: -0.5 [1^ 0^ 2 1] +\n",
      "0.5 [1^ 0^ 3 0] +\n",
      "0.5 [2^ 1^ 1 0] +\n",
      "-0.5 [3^ 0^ 1 0] \n",
      "\n",
      "qubitOp: -0.125j [X0 Z1 Y2] +\n",
      "0.125j [X0 Y2] +\n",
      "0.125j [Y0 Z1 X2] +\n",
      "-0.125j [Y0 X2] +\n",
      "0.125j [Z0 X1 Z2 Y3] +\n",
      "-0.125j [Z0 Y1 Z2 X3] +\n",
      "-0.125j [X1 Z2 Y3] +\n",
      "0.125j [Y1 Z2 X3] \n",
      "\n",
      "qubitOp 2: 1j [Y1 Z2 X3] \n",
      "\n",
      "qubitOp 2: 1j [Z0 Y1 Z2 X3] \n",
      "\n",
      "qubitOp 2: 1j [X1 Z2 Y3] \n",
      "\n",
      "qubitOp 2: 1j [Z0 X1 Z2 Y3] \n",
      "\n",
      "qubitOp 2: 1j [Y0 Z1 X2] \n",
      "\n",
      "qubitOp 2: 1j [Y0 X2] \n",
      "\n",
      "qubitOp 2: 1j [X0 Z1 Y2] \n",
      "\n",
      "qubitOp 2: 1j [X0 Y2] \n",
      "\n",
      "Pool Size: 8\n",
      "fermionOp: 0.7071067811865475 [1^ 0^ 3 2] +\n",
      "-0.7071067811865475 [3^ 2^ 1 0] \n",
      "\n",
      "qubitOp: -0.08838834764831843j [X0 X1 X2 Y3] +\n",
      "-0.08838834764831843j [X0 X1 Y2 X3] +\n",
      "0.08838834764831843j [X0 Y1 X2 X3] +\n",
      "-0.08838834764831843j [X0 Y1 Y2 Y3] +\n",
      "0.08838834764831843j [Y0 X1 X2 X3] +\n",
      "-0.08838834764831843j [Y0 X1 Y2 Y3] +\n",
      "0.08838834764831843j [Y0 Y1 X2 Y3] +\n",
      "0.08838834764831843j [Y0 Y1 Y2 X3] \n",
      "\n",
      "qubitOp 2: 1j [X0 X1 Y2 X3] \n",
      "\n",
      "qubitOp 2: 1j [Y0 Y1 Y2 X3] \n",
      "\n",
      "qubitOp 2: 1j [Y0 X1 X2 X3] \n",
      "\n",
      "qubitOp 2: 1j [X0 Y1 X2 X3] \n",
      "\n",
      "qubitOp 2: 1j [Y0 X1 Y2 Y3] \n",
      "\n",
      "qubitOp 2: 1j [X0 Y1 Y2 Y3] \n",
      "\n",
      "qubitOp 2: 1j [X0 X1 X2 Y3] \n",
      "\n",
      "qubitOp 2: 1j [Y0 Y1 X2 Y3] \n",
      "\n",
      "Pool Size: 16\n",
      "fermionOp: -0.5 [2^ 1^ 3 2] +\n",
      "0.5 [3^ 0^ 3 2] +\n",
      "0.5 [3^ 2^ 2 1] +\n",
      "-0.5 [3^ 2^ 3 0] \n",
      "\n",
      "qubitOp: -0.125j [X0 Z1 Y2] +\n",
      "0.125j [X0 Z1 Y2 Z3] +\n",
      "0.125j [Y0 Z1 X2] +\n",
      "-0.125j [Y0 Z1 X2 Z3] +\n",
      "-0.125j [X1 Z2 Y3] +\n",
      "0.125j [X1 Y3] +\n",
      "0.125j [Y1 Z2 X3] +\n",
      "-0.125j [Y1 X3] \n",
      "\n",
      "qubitOp 2: 1j [Y0 Z1 X2] \n",
      "\n",
      "qubitOp 2: 1j [Y0 Z1 X2 Z3] \n",
      "\n",
      "qubitOp 2: 1j [X0 Z1 Y2] \n",
      "\n",
      "qubitOp 2: 1j [X0 Z1 Y2 Z3] \n",
      "\n",
      "qubitOp 2: 1j [Y1 Z2 X3] \n",
      "\n",
      "qubitOp 2: 1j [Y1 X3] \n",
      "\n",
      "qubitOp 2: 1j [X1 Z2 Y3] \n",
      "\n",
      "qubitOp 2: 1j [X1 Y3] \n",
      "\n",
      "Pool Size: 20\n",
      "1j [Y0 X1 X2 X3]\n"
     ]
    }
   ],
   "source": [
    "orbitalNumber=2\n",
    "fermionic_pool = fermionicPool(orbitalNumber)\n",
    "qubit_pool = qubitPool(fermionic_pool)\n",
    "\n",
    "print(qubit_pool[10])"
   ]
  },
  {
   "cell_type": "code",
   "execution_count": 3,
   "metadata": {},
   "outputs": [
    {
     "name": "stdout",
     "output_type": "stream",
     "text": [
      "     \n",
      "q_0: \n",
      "     \n",
      "q_1: \n",
      "     \n",
      "q_2: \n",
      "     \n",
      "q_3: \n",
      "     \n"
     ]
    }
   ],
   "source": [
    "qubit_number = 4\n",
    "circ = QuantumCircuit(qubit_number)\n",
    "print(circ)"
   ]
  },
  {
   "cell_type": "code",
   "execution_count": 4,
   "metadata": {},
   "outputs": [
    {
     "name": "stdout",
     "output_type": "stream",
     "text": [
      "Qubit Hamiltonian: -0.09706626816763125 [] +\n",
      "-0.04530261550379926 [X0 X1 Y2 Y3] +\n",
      "0.04530261550379926 [X0 Y1 Y2 X3] +\n",
      "0.04530261550379926 [Y0 X1 X2 Y3] +\n",
      "-0.04530261550379926 [Y0 Y1 X2 X3] +\n",
      "0.17141282644776926 [Z0] +\n",
      "0.16868898170361205 [Z0 Z1] +\n",
      "0.12062523483390411 [Z0 Z2] +\n",
      "0.16592785033770338 [Z0 Z3] +\n",
      "0.1714128264477692 [Z1] +\n",
      "0.16592785033770338 [Z1 Z2] +\n",
      "0.12062523483390411 [Z1 Z3] +\n",
      "-0.22343153690813433 [Z2] +\n",
      "0.17441287612261575 [Z2 Z3] +\n",
      "-0.22343153690813433 [Z3]\n",
      "Dict Hamiltonian: {'IIII': -0.09706626816763125, 'ZIII': 0.17141282644776926, 'IZII': 0.1714128264477692, 'IIZI': -0.22343153690813433, 'IIIZ': -0.22343153690813433, 'ZZII': 0.16868898170361205, 'ZIZI': 0.12062523483390411, 'ZIIZ': 0.16592785033770338, 'IZZI': 0.16592785033770338, 'IZIZ': 0.12062523483390411, 'IIZZ': 0.17441287612261575, 'XXYY': -0.04530261550379926, 'XYYX': 0.04530261550379926, 'YXXY': 0.04530261550379926, 'YYXX': -0.04530261550379926}\n",
      "Hamiltonian List [('IIII', -0.09706626816763125), ('ZIII', 0.17141282644776926), ('IZII', 0.1714128264477692), ('IIZI', -0.22343153690813433), ('IIIZ', -0.22343153690813433), ('ZZII', 0.16868898170361205), ('ZIZI', 0.12062523483390411), ('ZIIZ', 0.16592785033770338), ('IZZI', 0.16592785033770338), ('IZIZ', 0.12062523483390411), ('IIZZ', 0.17441287612261575), ('XXYY', -0.04530261550379926), ('XYYX', 0.04530261550379926), ('YXXY', 0.04530261550379926), ('YYXX', -0.04530261550379926)]\n",
      "Final Hamiltonian:  SparsePauliOp(['IIII', 'ZIII', 'IZII', 'IIZI', 'IIIZ', 'ZZII', 'ZIZI', 'ZIIZ', 'IZZI', 'IZIZ', 'IIZZ', 'XXYY', 'XYYX', 'YXXY', 'YYXX'],\n",
      "              coeffs=[-0.09706627+0.j,  0.17141283+0.j,  0.17141283+0.j, -0.22343154+0.j,\n",
      " -0.22343154+0.j,  0.16868898+0.j,  0.12062523+0.j,  0.16592785+0.j,\n",
      "  0.16592785+0.j,  0.12062523+0.j,  0.17441288+0.j, -0.04530262+0.j,\n",
      "  0.04530262+0.j,  0.04530262+0.j, -0.04530262+0.j])\n",
      "Reference value: -1.13728\n",
      "Sparse version of the pool was not provided. Obtaining it...\n",
      "Initializing data structures...\n",
      "\n",
      "Adapt VQE prepared with the following settings:\n",
      "> Convergence threshold (gradient norm):  0.15\n",
      "> Maximum number of iterations:  1\n",
      "> Backend:  <class 'qiskit_aer.backends.qasm_simulator.QasmSimulator'>\n"
     ]
    }
   ],
   "source": [
    "threshold = 0.15\n",
    "# backend = Aer.get_backend('qasm_simulator')\n",
    "backend = QasmSimulator()\n",
    "molecule = h2\n",
    "maxIterations = 1\n",
    "\n",
    "shots = 2**8\n",
    "\n",
    "# qinstance = QuantumInstance(backend, \n",
    "#                             shots = shots,\n",
    "#                             coupling_map=coupling_map,\n",
    "#                             basis_gates=basis_gates,\n",
    "#                             noise_model=belemNM)\n",
    "\n",
    "myAdapt = AdaptVQE(qubit_pool,\n",
    "                   molecule,\n",
    "                   verbose = True,\n",
    "                   threshold = threshold,\n",
    "                   maxIterations = maxIterations,\n",
    "                   shots = shots,\n",
    "                   referenceDeterminant = None\n",
    "                   )\n",
    "\n",
    "myAdapt.prepare()"
   ]
  },
  {
   "cell_type": "code",
   "execution_count": 5,
   "metadata": {},
   "outputs": [
    {
     "name": "stdout",
     "output_type": "stream",
     "text": [
      "\n",
      "*** Adapt Iteration 1 ***\n",
      "\n",
      "Calculating gradients and selecting the next operator...\n",
      "\n",
      "Non-Zero Gradients (calculated, tolerance E-5):\n",
      "Operator 8: 0.36242092403039405\n",
      "Operator 9: 0.36242092403039405\n",
      "Operator 10: 0.36242092403039405\n",
      "Operator 11: 0.36242092403039405\n",
      "Operator 12: 0.36242092403039405\n",
      "Operator 13: 0.36242092403039405\n",
      "Operator 14: 0.36242092403039405\n",
      "Operator 15: 0.36242092403039405\n",
      "Total gradient norm: 1.0250811721031448\n",
      "Selected: 1j [X0 X1 Y2 X3], index 8\n",
      "(gradient: 0.36242092403039405)\n",
      "\n",
      "Optimizing energy with indices [8]...\n",
      "Number of function evaluations: 15\n",
      "Optimized energy:  -1.1372837775073963\n",
      "Optimized coefficients:  [0.11259531250000002]\n",
      "Energy Change:  -0.020524470110970583\n",
      "Performance ratio:  0.056631581539837696\n",
      "\n",
      "Current average performance ratio:  0.056631581539837696\n",
      "Current 10-last average performance ratio:  0.056631581539837696\n",
      "Current average performance ratio of the ansatz:  0.056631581539837696\n",
      "Current ansatz: [1j [X0 X1 Y2 X3]]\n",
      "\n",
      "Energy Changes Associated with the Indices: [-0.020524470110970583]\n",
      "Performances Associated with the Indices:  [0.056631581539837696]\n",
      "\n",
      "The maximum number of iterations (1) was hit before the convergence criterion was satisfied.\n",
      "(current gradient norm is 1.0250811721031448 > 0.15)\n"
     ]
    }
   ],
   "source": [
    "myAdapt.run()\n",
    "data = myAdapt.data"
   ]
  },
  {
   "cell_type": "code",
   "execution_count": 8,
   "metadata": {},
   "outputs": [
    {
     "data": {
      "text/plain": [
       "<matplotlib.lines.Line2D at 0x7f15c45c4690>"
      ]
     },
     "execution_count": 8,
     "metadata": {},
     "output_type": "execute_result"
    },
    {
     "data": {
      "image/png": "[encoded data removed]",
      "text/plain": [
       "<Figure size 800x800 with 2 Axes>"
      ]
     },
     "metadata": {},
     "output_type": "display_data"
    }
   ],
   "source": [
    "data.plot()\n",
    "plt.axhline(-1.13728, color='green')"
   ]
  },
  {
   "cell_type": "code",
   "execution_count": 9,
   "metadata": {},
   "outputs": [
    {
     "data": {
      "text/plain": [
       "{'nfev': [1, 2, 3, 4, 5, 6, 7, 8, 9, 10, 11, 12, 13, 14, 15],\n",
       " 'parameters': [[0.0],\n",
       "  [0.1],\n",
       "  [0.2],\n",
       "  [0.15000000000000002],\n",
       "  [0.07500000000000001],\n",
       "  [0.11250000000000002],\n",
       "  [0.12500000000000003],\n",
       "  [0.11875000000000002],\n",
       "  [0.10937500000000001],\n",
       "  [0.11406250000000001],\n",
       "  [0.11171875000000002],\n",
       "  [0.11289062500000002],\n",
       "  [0.11328125000000003],\n",
       "  [0.11269531250000002],\n",
       "  [0.11259531250000002]],\n",
       " 'energy': [-1.1167593073964248,\n",
       "  -1.1370190698544886,\n",
       "  -1.1249887419896099,\n",
       "  -1.135040389547473,\n",
       "  -1.1349717072576209,\n",
       "  -1.1372837048624878,\n",
       "  -1.1370419830414509,\n",
       "  -1.1372261365306413,\n",
       "  -1.1372650160108253,\n",
       "  -1.1372811809679761,\n",
       "  -1.1372819997216022,\n",
       "  -1.1372838156608824,\n",
       "  -1.13728343194439,\n",
       "  -1.1372838220760493,\n",
       "  -1.1372837775073945],\n",
       " 'stddev': [{}, {}, {}, {}, {}, {}, {}, {}, {}, {}, {}, {}, {}, {}, {}]}"
      ]
     },
     "execution_count": 9,
     "metadata": {},
     "output_type": "execute_result"
    }
   ],
   "source": [
    "evolution = myAdapt.optEvolution\n",
    "evolution"
   ]
  },
  {
   "cell_type": "code",
   "execution_count": 11,
   "metadata": {},
   "outputs": [
    {
     "data": {
      "text/plain": [
       "<matplotlib.lines.Line2D at 0x7f15c42d8590>"
      ]
     },
     "execution_count": 11,
     "metadata": {},
     "output_type": "execute_result"
    },
    {
     "data": {
      "image/png": "[encoded data removed]",
      "text/plain": [
       "<Figure size 800x800 with 1 Axes>"
      ]
     },
     "metadata": {},
     "output_type": "display_data"
    }
   ],
   "source": [
    "chemicalAccuracy = 1.5936*10**-3\n",
    "exactEnergy = molecule.fci_energy\n",
    "\n",
    "\n",
    "nfev = evolution[\"nfev\"][-1]\n",
    "energies = []\n",
    "for i in range(nfev):\n",
    "  optimizedCoefficients = list(evolution[\"parameters\"][i])\n",
    "  energy = myAdapt.calculateEnergy(optimizedCoefficients,data.result[\"indices\"])\n",
    "  energies.append(energy)\n",
    "\n",
    "fig, ax1 = plt.subplots(figsize=[8,8])\n",
    "\n",
    "nfev = evolution[\"nfev\"][-1]\n",
    "\n",
    "\n",
    "color1 = 'b'\n",
    "ax1.plot(range(nfev), energies, '--o', color = color1)\n",
    "ax1.set_xlabel(\"Optimization Iteration\")\n",
    "ax1.set_ylabel(\"Energy (au)\")\n",
    "\n",
    "# UCCSD graph scale\n",
    "#ax1.set_ylim(-1.15,-0.05)\n",
    "\n",
    "\n",
    "minAccuracy = exactEnergy - chemicalAccuracy\n",
    "maxAccuracy = exactEnergy + chemicalAccuracy\n",
    "l = ax1.axhspan(minAccuracy, maxAccuracy, alpha=0.3, color = 'cornflowerblue')\n",
    "plt.axhline(y = exactEnergy, color = 'cornflowerblue' , linestyle = '-')\n",
    "plt.axhline(-1.13728, color='green', linestyle='--')"
   ]
  }
 ],
 "metadata": {
  "kernelspec": {
   "display_name": "qiskit-1",
   "language": "python",
   "name": "python3"
  },
  "language_info": {
   "codemirror_mode": {
    "name": "ipython",
    "version": 3
   },
   "file_extension": ".py",
   "mimetype": "text/x-python",
   "name": "python",
   "nbconvert_exporter": "python",
   "pygments_lexer": "ipython3",
   "version": "3.11.8"
  }
 },
 "nbformat": 4,
 "nbformat_minor": 2
}
