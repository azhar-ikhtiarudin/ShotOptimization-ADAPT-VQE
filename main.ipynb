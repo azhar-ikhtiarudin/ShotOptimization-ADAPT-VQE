{
 "cells": [
  {
   "cell_type": "code",
   "execution_count": null,
   "metadata": {},
   "outputs": [],
   "source": [
    "# Noise model from ibmq_belem\n",
    "\n",
    "device_backend = FakeBelem()\n",
    "device = QasmSimulator.from_backend(device_backend)\n",
    "coupling_map = device.configuration().coupling_map\n",
    "\n",
    "# belemNM = NoiseModel.from_backend(device)\n",
    "# basis_gates = belemNM.basis_gates"
   ]
  },
  {
   "cell_type": "code",
   "execution_count": null,
   "metadata": {},
   "outputs": [],
   "source": [
    "op = qubitPool[10]\n",
    "print(op)"
   ]
  }
 ],
 "metadata": {
  "language_info": {
   "name": "python"
  }
 },
 "nbformat": 4,
 "nbformat_minor": 2
}
