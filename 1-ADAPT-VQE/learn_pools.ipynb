{
 "cells": [
  {
   "cell_type": "code",
   "execution_count": 1,
   "metadata": {},
   "outputs": [
    {
     "name": "stdout",
     "output_type": "stream",
     "text": [
      "/home/azhar04/anaconda3/envs/qiskit-1-2/bin/python\n"
     ]
    }
   ],
   "source": [
    "%load_ext autoreload\n",
    "%autoreload 2\n",
    "\n",
    "import sys\n",
    "sys.path.append('/home/azhar04/project/1. dev/quantum-dev/ShotOptimized-ADAPT-VQE/ADAPT-VQE/')\n",
    "print(sys.executable)"
   ]
  },
  {
   "cell_type": "code",
   "execution_count": 2,
   "metadata": {},
   "outputs": [],
   "source": [
    "from src.utilities import to_qiskit_operator\n",
    "from src.molecules import create_h2, create_h4\n",
    "\n",
    "from algorithms.adapt_vqe import AdaptVQE\n"
   ]
  },
  {
   "cell_type": "markdown",
   "metadata": {},
   "source": [
    "### GSD1 Pool (Generalized Single and Double Excitation)"
   ]
  },
  {
   "cell_type": "code",
   "execution_count": 4,
   "metadata": {},
   "outputs": [
    {
     "ename": "ModuleNotFoundError",
     "evalue": "No module named 'src.circuits'",
     "output_type": "error",
     "traceback": [
      "\u001b[0;31m---------------------------------------------------------------------------\u001b[0m",
      "\u001b[0;31mModuleNotFoundError\u001b[0m                       Traceback (most recent call last)",
      "Cell \u001b[0;32mIn[4], line 1\u001b[0m\n\u001b[0;32m----> 1\u001b[0m \u001b[38;5;28;01mfrom\u001b[39;00m \u001b[38;5;21;01msrc\u001b[39;00m\u001b[38;5;21;01m.\u001b[39;00m\u001b[38;5;21;01mfull_pools\u001b[39;00m \u001b[38;5;28;01mimport\u001b[39;00m QE\n\u001b[1;32m      3\u001b[0m r \u001b[38;5;241m=\u001b[39m \u001b[38;5;241m0.742\u001b[39m\n\u001b[1;32m      4\u001b[0m molecule \u001b[38;5;241m=\u001b[39m create_h2(r)\n",
      "File \u001b[0;32m~/project/1. dev/quantum-dev/ShotOptimized-ADAPT-VQE/1-ADAPT-VQE/src/full_pools.py:30\u001b[0m\n\u001b[1;32m     27\u001b[0m \u001b[38;5;28;01mfrom\u001b[39;00m \u001b[38;5;21;01mscipy\u001b[39;00m\u001b[38;5;21;01m.\u001b[39;00m\u001b[38;5;21;01msparse\u001b[39;00m\u001b[38;5;21;01m.\u001b[39;00m\u001b[38;5;21;01mlinalg\u001b[39;00m \u001b[38;5;28;01mimport\u001b[39;00m expm, expm_multiply\n\u001b[1;32m     28\u001b[0m \u001b[38;5;28;01mfrom\u001b[39;00m \u001b[38;5;21;01mscipy\u001b[39;00m\u001b[38;5;21;01m.\u001b[39;00m\u001b[38;5;21;01msparse\u001b[39;00m \u001b[38;5;28;01mimport\u001b[39;00m issparse, identity\n\u001b[0;32m---> 30\u001b[0m \u001b[38;5;28;01mfrom\u001b[39;00m \u001b[38;5;21;01m.\u001b[39;00m\u001b[38;5;21;01mcircuits\u001b[39;00m \u001b[38;5;28;01mimport\u001b[39;00m qe_circuit, pauli_exp_circuit, ovp_ceo_circuit, mvp_ceo_circuit, cnot_depth, cnot_count\n\u001b[1;32m     31\u001b[0m \u001b[38;5;28;01mfrom\u001b[39;00m \u001b[38;5;21;01m.\u001b[39;00m\u001b[38;5;21;01mchemistry\u001b[39;00m \u001b[38;5;28;01mimport\u001b[39;00m normalize_op\n\u001b[1;32m     32\u001b[0m \u001b[38;5;28;01mfrom\u001b[39;00m \u001b[38;5;21;01m.\u001b[39;00m\u001b[38;5;21;01mop_conv\u001b[39;00m \u001b[38;5;28;01mimport\u001b[39;00m string_to_qop\n",
      "\u001b[0;31mModuleNotFoundError\u001b[0m: No module named 'src.circuits'"
     ]
    }
   ],
   "source": [
    "from src.full_pools import QE\n",
    "\n",
    "r = 0.742\n",
    "molecule = create_h2(r)\n",
    "pool = QE(molecule)\n",
    "\n",
    "print(pool)"
   ]
  },
  {
   "cell_type": "markdown",
   "metadata": {},
   "source": [
    "### Qubit-Excitation Pool"
   ]
  },
  {
   "cell_type": "code",
   "execution_count": null,
   "metadata": {},
   "outputs": [
    {
     "name": "stdout",
     "output_type": "stream",
     "text": [
      "0.5j [X0 Y2] +\n",
      "-0.5j [Y0 X2] \n",
      "\n",
      "<class 'openfermion.ops.operators.qubit_operator.QubitOperator'> \n",
      "\n",
      "N qubits:  3\n",
      "==TERM== -0.5j [Y0 X2]\n",
      "pauli string ((0, 'Y'), (2, 'X'))\n",
      "AA\n",
      "--qiskit_op-1 SparsePauliOp(['Y'],\n",
      "              coeffs=[1.+0.j])\n",
      "AA\n",
      "--qiskit_op-1 SparsePauliOp(['XIY'],\n",
      "              coeffs=[1.+0.j])\n",
      "BB True\n",
      "0\n",
      "coefficient -0.5j\n",
      "qiskit_op SparsePauliOp(['XIY'],\n",
      "              coeffs=[1.+0.j])\n",
      "non empty qiskit term SparsePauliOp(['XIY'],\n",
      "              coeffs=[0.-0.5j])\n",
      "==TERM== 0.5j [X0 Y2]\n",
      "pauli string ((0, 'X'), (2, 'Y'))\n",
      "AA\n",
      "--qiskit_op-1 SparsePauliOp(['X'],\n",
      "              coeffs=[1.+0.j])\n",
      "AA\n",
      "--qiskit_op-1 SparsePauliOp(['YIX'],\n",
      "              coeffs=[1.+0.j])\n",
      "BB True\n",
      "0\n",
      "coefficient 0.5j\n",
      "qiskit_op SparsePauliOp(['YIX'],\n",
      "              coeffs=[1.+0.j])\n",
      "non empty qiskit term SparsePauliOp(['YIX'],\n",
      "              coeffs=[0.+0.5j])\n"
     ]
    }
   ],
   "source": [
    "from src.pools import QE\n",
    "\n",
    "r = 0.742\n",
    "molecule = create_h4(r)\n",
    "pool = QE(molecule)\n",
    "\n",
    "print(pool.get_q_op(0), '\\n')\n",
    "print(type(pool.get_q_op(0)), '\\n')\n",
    "# print(pool)\n",
    "\n",
    "operator_qiskit = to_qiskit_operator(pool.get_q_op(0))"
   ]
  }
 ],
 "metadata": {
  "kernelspec": {
   "display_name": "qiskit-1-2",
   "language": "python",
   "name": "python3"
  },
  "language_info": {
   "codemirror_mode": {
    "name": "ipython",
    "version": 3
   },
   "file_extension": ".py",
   "mimetype": "text/x-python",
   "name": "python",
   "nbconvert_exporter": "python",
   "pygments_lexer": "ipython3",
   "version": "3.12.3"
  }
 },
 "nbformat": 4,
 "nbformat_minor": 2
}
