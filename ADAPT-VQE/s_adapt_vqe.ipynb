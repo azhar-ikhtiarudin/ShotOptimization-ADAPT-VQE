{
 "cells": [
  {
   "cell_type": "code",
   "execution_count": 5,
   "metadata": {},
   "outputs": [],
   "source": [
    "%load_ext autoreload\n",
    "%autoreload 2"
   ]
  },
  {
   "cell_type": "code",
   "execution_count": 6,
   "metadata": {},
   "outputs": [
    {
     "name": "stdout",
     "output_type": "stream",
     "text": [
      "/home/azhar04/anaconda3/envs/qiskit-1-2/bin/python\n"
     ]
    }
   ],
   "source": [
    "import sys\n",
    "sys.path.append('/home/azhar04/project/1. dev/quantum-dev/ShotOptimized-ADAPT-VQE/ADAPT-VQE/')\n",
    "print(sys.executable)"
   ]
  },
  {
   "cell_type": "code",
   "execution_count": 104,
   "metadata": {},
   "outputs": [
    {
     "name": "stdout",
     "output_type": "stream",
     "text": [
      "HF State: [1, 1, 0, 0]\n",
      "N Qubits: 4\n",
      "Hamiltonian Type: <class 'openfermion.ops.representations.interaction_operator.InteractionOperator'>\n",
      "Hamiltonian: () 0.7131768341239892\n",
      "((0, 1), (0, 0)) -1.2521011771187973\n",
      "((1, 1), (1, 0)) -1.2521011771187973\n",
      "((2, 1), (2, 0)) -0.4763246662830587\n",
      "((3, 1), (3, 0)) -0.4763246662830587\n",
      "((0, 1), (0, 1), (0, 0), (0, 0)) 0.3371871363510416\n",
      "((0, 1), (0, 1), (2, 0), (2, 0)) 0.09066120278229658\n",
      "((0, 1), (1, 1), (1, 0), (0, 0)) 0.3371871363510416\n",
      "((0, 1), (1, 1), (3, 0), (2, 0)) 0.09066120278229658\n",
      "((0, 1), (2, 1), (0, 0), (2, 0)) 0.09066120278229658\n",
      "((0, 1), (2, 1), (2, 0), (0, 0)) 0.33168193748206215\n",
      "((0, 1), (3, 1), (1, 0), (2, 0)) 0.09066120278229658\n",
      "((0, 1), (3, 1), (3, 0), (0, 0)) 0.33168193748206215\n",
      "((1, 1), (0, 1), (0, 0), (1, 0)) 0.3371871363510416\n",
      "((1, 1), (0, 1), (2, 0), (3, 0)) 0.09066120278229658\n",
      "((1, 1), (1, 1), (1, 0), (1, 0)) 0.3371871363510416\n",
      "((1, 1), (1, 1), (3, 0), (3, 0)) 0.09066120278229658\n",
      "((1, 1), (2, 1), (0, 0), (3, 0)) 0.09066120278229658\n",
      "((1, 1), (2, 1), (2, 0), (1, 0)) 0.33168193748206215\n",
      "((1, 1), (3, 1), (1, 0), (3, 0)) 0.09066120278229658\n",
      "((1, 1), (3, 1), (3, 0), (1, 0)) 0.33168193748206215\n",
      "((2, 1), (0, 1), (0, 0), (2, 0)) 0.3316819374820622\n",
      "((2, 1), (0, 1), (2, 0), (0, 0)) 0.09066120278229658\n",
      "((2, 1), (1, 1), (1, 0), (2, 0)) 0.3316819374820622\n",
      "((2, 1), (1, 1), (3, 0), (0, 0)) 0.09066120278229658\n",
      "((2, 1), (2, 1), (0, 0), (0, 0)) 0.09066120278229658\n",
      "((2, 1), (2, 1), (2, 0), (2, 0)) 0.3486416866888512\n",
      "((2, 1), (3, 1), (1, 0), (0, 0)) 0.09066120278229658\n",
      "((2, 1), (3, 1), (3, 0), (2, 0)) 0.3486416866888512\n",
      "((3, 1), (0, 1), (0, 0), (3, 0)) 0.3316819374820622\n",
      "((3, 1), (0, 1), (2, 0), (1, 0)) 0.09066120278229658\n",
      "((3, 1), (1, 1), (1, 0), (3, 0)) 0.3316819374820622\n",
      "((3, 1), (1, 1), (3, 0), (1, 0)) 0.09066120278229658\n",
      "((3, 1), (2, 1), (0, 0), (1, 0)) 0.09066120278229658\n",
      "((3, 1), (2, 1), (2, 0), (3, 0)) 0.3486416866888512\n",
      "((3, 1), (3, 1), (1, 0), (1, 0)) 0.09066120278229658\n",
      "((3, 1), (3, 1), (3, 0), (3, 0)) 0.3486416866888512\n",
      "\n",
      "Qubit Hamiltonian: -0.0996319255760924 [] +\n",
      "-0.04533060139114829 [X0 X1 Y2 Y3] +\n",
      "0.04533060139114829 [X0 Y1 Y2 X3] +\n",
      "0.04533060139114829 [Y0 X1 X2 Y3] +\n",
      "-0.04533060139114829 [Y0 Y1 X2 X3] +\n",
      "0.17110568429296397 [Z0] +\n",
      "0.1685935681755208 [Z0 Z1] +\n",
      "0.1205103673498828 [Z0 Z2] +\n",
      "0.1658409687410311 [Z0 Z3] +\n",
      "0.17110568429296397 [Z1] +\n",
      "0.1658409687410311 [Z1 Z2] +\n",
      "0.1205103673498828 [Z1 Z3] +\n",
      "-0.22250984629381015 [Z2] +\n",
      "0.1743208433444256 [Z2 Z3] +\n",
      "-0.22250984629381015 [Z3]\n",
      "Exact Energy: -1.1372633383635353\n",
      "\n",
      "- - - == Evaluate Observable == - - -\n",
      "ket:   (12, 0)\t(1+0j)\n",
      "ket type: <class 'scipy.sparse._csr.csr_matrix'>\n",
      "bra:   (0, 12)\t(1-0j)\n",
      "obs:\n",
      "   (0, 0)\t(0.7131768341239892+0j)\n",
      "  (1, 1)\t(0.23685216784093055+0j)\n",
      "  (2, 2)\t(0.23685216784093055+0j)\n",
      "  (3, 3)\t(0.45781087493557426+0j)\n",
      "  (12, 3)\t(0.18132240556459317+0j)\n",
      "  (4, 4)\t(-0.5389243429948081+0j)\n",
      "  (5, 5)\t(-0.5332075398783357+0j)\n",
      "  (6, 6)\t(-0.35188513431374246+0j)\n",
      "  (9, 6)\t(-0.18132240556459317+0j)\n",
      "  (7, 7)\t(0.3511150421804323+0j)\n",
      "  (8, 8)\t(-0.5389243429948081+0j)\n",
      "  (6, 9)\t(-0.18132240556459317+0j)\n",
      "  (9, 9)\t(-0.35188513431374246+0j)\n",
      "  (10, 10)\t(-0.5332075398783357+0j)\n",
      "  (11, 11)\t(0.3511150421804323+0j)\n",
      "  (3, 12)\t(0.18132240556459317+0j)\n",
      "  (12, 12)\t(-1.116651247411522+0j)\n",
      "  (13, 13)\t(-0.4475705693309253+0j)\n",
      "  (14, 14)\t(-0.4475705693309253+0j)\n",
      "  (15, 15)\t(0.9187934821273738+0j)\n",
      "res: -1.116651247411522 \n",
      "\n",
      "Initial Energy:  -1.116651247411522\n",
      "First Run, finished= False\n",
      "=== Run Iteration ===\n",
      "\n",
      "*** ADAPT-VQE Iteration 1 ***\n",
      "\n",
      "--Pool Size:  4\n",
      "Gradient idx, coeffs: 0 None None\n",
      "Measurement (get_grad_meas):  None\n",
      "ImplementationType.SPARSE 0\n",
      "self.imp_type 0\n",
      "\n",
      "- - - == Evaluate Observable == - - -\n",
      "ket:   (12, 0)\t(1+0j)\n",
      "ket type: <class 'scipy.sparse._csr.csr_matrix'>\n",
      "bra:   (0, 12)\t(1-0j)\n",
      "obs:\n",
      "   (8, 2)\t(-1.0778486859896161+0j)\n",
      "  (9, 3)\t(-0.7037702686274849+0j)\n",
      "  (6, 3)\t(-0.36264481112918634+0j)\n",
      "  (12, 6)\t(-2.233302494823044+0j)\n",
      "  (3, 6)\t(0.36264481112918634+0j)\n",
      "  (13, 7)\t(-0.8951411386618506+0j)\n",
      "  (2, 8)\t(-0.4737043356818611+0j)\n",
      "  (12, 9)\t(-0.36264481112918634+0j)\n",
      "  (3, 9)\t(-0.9156217498711485+0j)\n",
      "  (9, 12)\t(0.36264481112918634+0j)\n",
      "  (6, 12)\t(0.7037702686274849+0j)\n",
      "  (7, 13)\t(-0.7022300843608646+0j)\n",
      "res: 0.0 \n",
      "\n",
      "Gradient Result for Pool Index 0 : 0.0\n",
      "Gradient idx, coeffs: 1 None None\n",
      "Measurement (get_grad_meas):  None\n",
      "ImplementationType.SPARSE 0\n",
      "self.imp_type 0\n",
      "\n",
      "- - - == Evaluate Observable == - - -\n",
      "ket:   (12, 0)\t(1+0j)\n",
      "ket type: <class 'scipy.sparse._csr.csr_matrix'>\n",
      "bra:   (0, 12)\t(1-0j)\n",
      "obs:\n",
      "   (4, 1)\t(-1.0778486859896161+0j)\n",
      "  (9, 3)\t(-0.36264481112918634+0j)\n",
      "  (6, 3)\t(-0.7037702686274849+0j)\n",
      "  (1, 4)\t(-0.4737043356818611+0j)\n",
      "  (12, 6)\t(-0.36264481112918634+0j)\n",
      "  (3, 6)\t(-0.9156217498711485+0j)\n",
      "  (12, 9)\t(-2.233302494823044+0j)\n",
      "  (3, 9)\t(0.36264481112918634+0j)\n",
      "  (14, 11)\t(-0.8951411386618506+0j)\n",
      "  (9, 12)\t(0.7037702686274849+0j)\n",
      "  (6, 12)\t(0.36264481112918634+0j)\n",
      "  (11, 14)\t(-0.7022300843608646+0j)\n",
      "res: 0.0 \n",
      "\n",
      "Gradient Result for Pool Index 1 : 0.0\n",
      "Gradient idx, coeffs: 2 None None\n",
      "Measurement (get_grad_meas):  None\n",
      "ImplementationType.SPARSE 0\n",
      "self.imp_type 0\n",
      "\n",
      "- - - == Evaluate Observable == - - -\n",
      "ket:   (12, 0)\t(1+0j)\n",
      "ket type: <class 'scipy.sparse._csr.csr_matrix'>\n",
      "bra:   (0, 12)\t(1-0j)\n",
      "obs:\n",
      "   (12, 3)\t(2.233302494823044+0j)\n",
      "  (3, 3)\t(-0.36264481112918634+0j)\n",
      "  (12, 12)\t(0.36264481112918634+0j)\n",
      "  (3, 12)\t(0.9156217498711485+0j)\n",
      "res: 0.36264481112918634 \n",
      "\n",
      "Gradient Result for Pool Index 2 : 0.36264481112918634\n",
      "Initial Selected Gradients: []\n",
      "Initial Selected Indices: []\n",
      "Initial Gradient: 0.36264481112918634\n",
      "Initial Index: 2\n",
      "After Place Selected Gradients: [0.36264481112918634]\n",
      "After Place Selected Indices: [2]\n",
      "Gradient idx, coeffs: 3 None None\n",
      "Measurement (get_grad_meas):  None\n",
      "ImplementationType.SPARSE 0\n",
      "self.imp_type 0\n",
      "\n",
      "- - - == Evaluate Observable == - - -\n",
      "ket:   (12, 0)\t(1+0j)\n",
      "ket type: <class 'scipy.sparse._csr.csr_matrix'>\n",
      "bra:   (0, 12)\t(1-0j)\n",
      "obs:\n",
      "   (9, 6)\t(-0.7037702686274849+0j)\n",
      "  (6, 6)\t(-0.36264481112918634+0j)\n",
      "  (9, 9)\t(0.36264481112918634+0j)\n",
      "  (6, 9)\t(0.7037702686274849+0j)\n",
      "res: 0.0 \n",
      "\n",
      "Gradient Result for Pool Index 3 : 0.0\n",
      "Final Selected Indices: [2]\n",
      "Final Selected Gradients: [0.36264481112918634]\n",
      "Total Norm 0.36264481112918634\n",
      "Max Norm 0.36264481112918634\n",
      "viable candidates [2]\n",
      "viable gradients [0.36264481112918634]\n",
      "WHILE VIABLE CANDIDATES: [2] [0.36264481112918634]\n",
      "Operator(s) added to ansatz: [2]\n",
      "WHILE VIABLE CANDIDATES: None 0.36264481112918634 [] [0.36264481112918634]\n",
      ". . . == Full Optimization == . . .\n",
      "Initial Energy: -1.116651247411522\n",
      "Optimizing energy with indices [2]...\n",
      "Starting point: [0.0]\n",
      "Evaluate Observable\n",
      "\n",
      "- - - == Evaluate Observable == - - -\n",
      "ket:   (12, 0)\t(1+0j)\n",
      "ket type: <class 'scipy.sparse._csr.csr_matrix'>\n",
      "bra:   (0, 12)\t(1-0j)\n",
      "obs:\n",
      "   (0, 0)\t(0.7131768341239892+0j)\n",
      "  (1, 1)\t(0.23685216784093055+0j)\n",
      "  (2, 2)\t(0.23685216784093055+0j)\n",
      "  (3, 3)\t(0.45781087493557426+0j)\n",
      "  (12, 3)\t(0.18132240556459317+0j)\n",
      "  (4, 4)\t(-0.5389243429948081+0j)\n",
      "  (5, 5)\t(-0.5332075398783357+0j)\n",
      "  (6, 6)\t(-0.35188513431374246+0j)\n",
      "  (9, 6)\t(-0.18132240556459317+0j)\n",
      "  (7, 7)\t(0.3511150421804323+0j)\n",
      "  (8, 8)\t(-0.5389243429948081+0j)\n",
      "  (6, 9)\t(-0.18132240556459317+0j)\n",
      "  (9, 9)\t(-0.35188513431374246+0j)\n",
      "  (10, 10)\t(-0.5332075398783357+0j)\n",
      "  (11, 11)\t(0.3511150421804323+0j)\n",
      "  (3, 12)\t(0.18132240556459317+0j)\n",
      "  (12, 12)\t(-1.116651247411522+0j)\n",
      "  (13, 13)\t(-0.4475705693309253+0j)\n",
      "  (14, 14)\t(-0.4475705693309253+0j)\n",
      "  (15, 15)\t(0.9187934821273738+0j)\n",
      "res: -1.116651247411522 \n",
      "\n",
      "Evaluate Observable\n",
      "\n",
      "- - - == Evaluate Observable == - - -\n",
      "ket:   (3, 0)\t(-0.354748268641385+0j)\n",
      "  (12, 0)\t(0.9349618526420956+0j)\n",
      "ket type: <class 'scipy.sparse._csr.csr_matrix'>\n",
      "bra:   (0, 3)\t(-0.354748268641385-0j)\n",
      "  (0, 12)\t(0.9349618526420956-0j)\n",
      "obs:\n",
      "   (0, 0)\t(0.7131768341239892+0j)\n",
      "  (1, 1)\t(0.23685216784093055+0j)\n",
      "  (2, 2)\t(0.23685216784093055+0j)\n",
      "  (3, 3)\t(0.45781087493557426+0j)\n",
      "  (12, 3)\t(0.18132240556459317+0j)\n",
      "  (4, 4)\t(-0.5389243429948081+0j)\n",
      "  (5, 5)\t(-0.5332075398783357+0j)\n",
      "  (6, 6)\t(-0.35188513431374246+0j)\n",
      "  (9, 6)\t(-0.18132240556459317+0j)\n",
      "  (7, 7)\t(0.3511150421804323+0j)\n",
      "  (8, 8)\t(-0.5389243429948081+0j)\n",
      "  (6, 9)\t(-0.18132240556459317+0j)\n",
      "  (9, 9)\t(-0.35188513431374246+0j)\n",
      "  (10, 10)\t(-0.5332075398783357+0j)\n",
      "  (11, 11)\t(0.3511150421804323+0j)\n",
      "  (3, 12)\t(0.18132240556459317+0j)\n",
      "  (12, 12)\t(-1.116651247411522+0j)\n",
      "  (13, 13)\t(-0.4475705693309253+0j)\n",
      "  (14, 14)\t(-0.4475705693309253+0j)\n",
      "  (15, 15)\t(0.9187934821273738+0j)\n",
      "res: -1.0387915772143506 \n",
      "\n",
      "Evaluate Observable\n",
      "\n",
      "- - - == Evaluate Observable == - - -\n",
      "ket:   (3, 0)\t(-0.11168261990302192+0j)\n",
      "  (12, 0)\t(0.993743926980989+0j)\n",
      "ket type: <class 'scipy.sparse._csr.csr_matrix'>\n",
      "bra:   (0, 3)\t(-0.11168261990302192-0j)\n",
      "  (0, 12)\t(0.993743926980989-0j)\n",
      "obs:\n",
      "   (0, 0)\t(0.7131768341239892+0j)\n",
      "  (1, 1)\t(0.23685216784093055+0j)\n",
      "  (2, 2)\t(0.23685216784093055+0j)\n",
      "  (3, 3)\t(0.45781087493557426+0j)\n",
      "  (12, 3)\t(0.18132240556459317+0j)\n",
      "  (4, 4)\t(-0.5389243429948081+0j)\n",
      "  (5, 5)\t(-0.5332075398783357+0j)\n",
      "  (6, 6)\t(-0.35188513431374246+0j)\n",
      "  (9, 6)\t(-0.18132240556459317+0j)\n",
      "  (7, 7)\t(0.3511150421804323+0j)\n",
      "  (8, 8)\t(-0.5389243429948081+0j)\n",
      "  (6, 9)\t(-0.18132240556459317+0j)\n",
      "  (9, 9)\t(-0.35188513431374246+0j)\n",
      "  (10, 10)\t(-0.5332075398783357+0j)\n",
      "  (11, 11)\t(0.3511150421804323+0j)\n",
      "  (3, 12)\t(0.18132240556459317+0j)\n",
      "  (12, 12)\t(-1.116651247411522+0j)\n",
      "  (13, 13)\t(-0.4475705693309253+0j)\n",
      "  (14, 14)\t(-0.4475705693309253+0j)\n",
      "  (15, 15)\t(0.9187934821273738+0j)\n",
      "res: -1.1372607140326336 \n",
      "\n",
      "Evaluate Observable\n",
      "\n",
      "- - - == Evaluate Observable == - - -\n",
      "ket:   (3, 0)\t(-0.11296003414033169+0j)\n",
      "  (12, 0)\t(0.9935995323504411+0j)\n",
      "ket type: <class 'scipy.sparse._csr.csr_matrix'>\n",
      "bra:   (0, 3)\t(-0.11296003414033169-0j)\n",
      "  (0, 12)\t(0.9935995323504411-0j)\n",
      "obs:\n",
      "   (0, 0)\t(0.7131768341239892+0j)\n",
      "  (1, 1)\t(0.23685216784093055+0j)\n",
      "  (2, 2)\t(0.23685216784093055+0j)\n",
      "  (3, 3)\t(0.45781087493557426+0j)\n",
      "  (12, 3)\t(0.18132240556459317+0j)\n",
      "  (4, 4)\t(-0.5389243429948081+0j)\n",
      "  (5, 5)\t(-0.5332075398783357+0j)\n",
      "  (6, 6)\t(-0.35188513431374246+0j)\n",
      "  (9, 6)\t(-0.18132240556459317+0j)\n",
      "  (7, 7)\t(0.3511150421804323+0j)\n",
      "  (8, 8)\t(-0.5389243429948081+0j)\n",
      "  (6, 9)\t(-0.18132240556459317+0j)\n",
      "  (9, 9)\t(-0.35188513431374246+0j)\n",
      "  (10, 10)\t(-0.5332075398783357+0j)\n",
      "  (11, 11)\t(0.3511150421804323+0j)\n",
      "  (3, 12)\t(0.18132240556459317+0j)\n",
      "  (12, 12)\t(-1.116651247411522+0j)\n",
      "  (13, 13)\t(-0.4475705693309253+0j)\n",
      "  (14, 14)\t(-0.4475705693309253+0j)\n",
      "  (15, 15)\t(0.9187934821273738+0j)\n",
      "res: -1.1372633381653392 \n",
      "\n",
      "Evaluate Observable\n",
      "\n",
      "- - - == Evaluate Observable == - - -\n",
      "ket:   (3, 0)\t(-0.11294902938969445+0j)\n",
      "  (12, 0)\t(0.9936007833933737+0j)\n",
      "ket type: <class 'scipy.sparse._csr.csr_matrix'>\n",
      "bra:   (0, 3)\t(-0.11294902938969445-0j)\n",
      "  (0, 12)\t(0.9936007833933737-0j)\n",
      "obs:\n",
      "   (0, 0)\t(0.7131768341239892+0j)\n",
      "  (1, 1)\t(0.23685216784093055+0j)\n",
      "  (2, 2)\t(0.23685216784093055+0j)\n",
      "  (3, 3)\t(0.45781087493557426+0j)\n",
      "  (12, 3)\t(0.18132240556459317+0j)\n",
      "  (4, 4)\t(-0.5389243429948081+0j)\n",
      "  (5, 5)\t(-0.5332075398783357+0j)\n",
      "  (6, 6)\t(-0.35188513431374246+0j)\n",
      "  (9, 6)\t(-0.18132240556459317+0j)\n",
      "  (7, 7)\t(0.3511150421804323+0j)\n",
      "  (8, 8)\t(-0.5389243429948081+0j)\n",
      "  (6, 9)\t(-0.18132240556459317+0j)\n",
      "  (9, 9)\t(-0.35188513431374246+0j)\n",
      "  (10, 10)\t(-0.5332075398783357+0j)\n",
      "  (11, 11)\t(0.3511150421804323+0j)\n",
      "  (3, 12)\t(0.18132240556459317+0j)\n",
      "  (12, 12)\t(-1.116651247411522+0j)\n",
      "  (13, 13)\t(-0.4475705693309253+0j)\n",
      "  (14, 14)\t(-0.4475705693309253+0j)\n",
      "  (15, 15)\t(0.9187934821273738+0j)\n",
      "res: -1.137263338363534 \n",
      "\n",
      "Optimization terminated successfully.\n",
      "         Current function value: -1.137263\n",
      "         Iterations: 3\n",
      "         Function evaluations: 5\n",
      "         Gradient evaluations: 5\n",
      "\n",
      "- - - == Evaluate Observable == - - -\n",
      "ket:   (3, 0)\t(-0.11294902938969445+0j)\n",
      "  (12, 0)\t(0.9936007833933737+0j)\n",
      "ket type: <class 'scipy.sparse._csr.csr_matrix'>\n",
      "bra:   (0, 3)\t(-0.11294902938969445-0j)\n",
      "  (0, 12)\t(0.9936007833933737-0j)\n",
      "obs:\n",
      "   (0, 0)\t(0.7131768341239892+0j)\n",
      "  (1, 1)\t(0.23685216784093055+0j)\n",
      "  (2, 2)\t(0.23685216784093055+0j)\n",
      "  (3, 3)\t(0.45781087493557426+0j)\n",
      "  (12, 3)\t(0.18132240556459317+0j)\n",
      "  (4, 4)\t(-0.5389243429948081+0j)\n",
      "  (5, 5)\t(-0.5332075398783357+0j)\n",
      "  (6, 6)\t(-0.35188513431374246+0j)\n",
      "  (9, 6)\t(-0.18132240556459317+0j)\n",
      "  (7, 7)\t(0.3511150421804323+0j)\n",
      "  (8, 8)\t(-0.5389243429948081+0j)\n",
      "  (6, 9)\t(-0.18132240556459317+0j)\n",
      "  (9, 9)\t(-0.35188513431374246+0j)\n",
      "  (10, 10)\t(-0.5332075398783357+0j)\n",
      "  (11, 11)\t(0.3511150421804323+0j)\n",
      "  (3, 12)\t(0.18132240556459317+0j)\n",
      "  (12, 12)\t(-1.116651247411522+0j)\n",
      "  (13, 13)\t(-0.4475705693309253+0j)\n",
      "  (14, 14)\t(-0.4475705693309253+0j)\n",
      "  (15, 15)\t(0.9187934821273738+0j)\n",
      "res: -1.137263338363534 \n",
      "\n",
      "=After Optimization=\n",
      "self.coefficients [-0.11319057622198941]\n",
      "energy -1.137263338363534\n",
      "gradient 0.36264481112918634\n",
      "\n",
      "Current energy: -1.137263338363534\n",
      "(change of -0.020612090952011997)\n",
      "Current ansatz: [2]\n",
      "=== Run Iteration ===\n",
      "\n",
      "*** ADAPT-VQE Iteration 2 ***\n",
      "\n",
      "--Pool Size:  4\n",
      "Gradient idx, coeffs: 0 None None\n",
      "Measurement (get_grad_meas):  None\n",
      "\n",
      "- - - == Evaluate Observable == - - -\n",
      "ket:   (3, 0)\t(-0.11294902938969445+0j)\n",
      "  (12, 0)\t(0.9936007833933737+0j)\n",
      "ket type: <class 'scipy.sparse._csr.csr_matrix'>\n",
      "bra:   (0, 3)\t(-0.11294902938969445-0j)\n",
      "  (0, 12)\t(0.9936007833933737-0j)\n",
      "obs:\n",
      "   (8, 2)\t(-1.0778486859896161+0j)\n",
      "  (9, 3)\t(-0.7037702686274849+0j)\n",
      "  (6, 3)\t(-0.36264481112918634+0j)\n",
      "  (12, 6)\t(-2.233302494823044+0j)\n",
      "  (3, 6)\t(0.36264481112918634+0j)\n",
      "  (13, 7)\t(-0.8951411386618506+0j)\n",
      "  (2, 8)\t(-0.4737043356818611+0j)\n",
      "  (12, 9)\t(-0.36264481112918634+0j)\n",
      "  (3, 9)\t(-0.9156217498711485+0j)\n",
      "  (9, 12)\t(0.36264481112918634+0j)\n",
      "  (6, 12)\t(0.7037702686274849+0j)\n",
      "  (7, 13)\t(-0.7022300843608646+0j)\n",
      "res: 0.0 \n",
      "\n",
      "Gradient Result for Pool Index 0 : 0.0\n",
      "Gradient idx, coeffs: 1 None None\n",
      "Measurement (get_grad_meas):  None\n",
      "\n",
      "- - - == Evaluate Observable == - - -\n",
      "ket:   (3, 0)\t(-0.11294902938969445+0j)\n",
      "  (12, 0)\t(0.9936007833933737+0j)\n",
      "ket type: <class 'scipy.sparse._csr.csr_matrix'>\n",
      "bra:   (0, 3)\t(-0.11294902938969445-0j)\n",
      "  (0, 12)\t(0.9936007833933737-0j)\n",
      "obs:\n",
      "   (4, 1)\t(-1.0778486859896161+0j)\n",
      "  (9, 3)\t(-0.36264481112918634+0j)\n",
      "  (6, 3)\t(-0.7037702686274849+0j)\n",
      "  (1, 4)\t(-0.4737043356818611+0j)\n",
      "  (12, 6)\t(-0.36264481112918634+0j)\n",
      "  (3, 6)\t(-0.9156217498711485+0j)\n",
      "  (12, 9)\t(-2.233302494823044+0j)\n",
      "  (3, 9)\t(0.36264481112918634+0j)\n",
      "  (14, 11)\t(-0.8951411386618506+0j)\n",
      "  (9, 12)\t(0.7037702686274849+0j)\n",
      "  (6, 12)\t(0.36264481112918634+0j)\n",
      "  (11, 14)\t(-0.7022300843608646+0j)\n",
      "res: 0.0 \n",
      "\n",
      "Gradient Result for Pool Index 1 : 0.0\n",
      "Gradient idx, coeffs: 2 None None\n",
      "Measurement (get_grad_meas):  None\n",
      "\n",
      "- - - == Evaluate Observable == - - -\n",
      "ket:   (3, 0)\t(-0.11294902938969445+0j)\n",
      "  (12, 0)\t(0.9936007833933737+0j)\n",
      "ket type: <class 'scipy.sparse._csr.csr_matrix'>\n",
      "bra:   (0, 3)\t(-0.11294902938969445-0j)\n",
      "  (0, 12)\t(0.9936007833933737-0j)\n",
      "obs:\n",
      "   (12, 3)\t(2.233302494823044+0j)\n",
      "  (3, 3)\t(-0.36264481112918634+0j)\n",
      "  (12, 12)\t(0.36264481112918634+0j)\n",
      "  (3, 12)\t(0.9156217498711485+0j)\n",
      "res: 3.841783835500934e-11 \n",
      "\n",
      "Gradient Result for Pool Index 2 : 3.841783835500934e-11\n",
      "Gradient idx, coeffs: 3 None None\n",
      "Measurement (get_grad_meas):  None\n",
      "\n",
      "- - - == Evaluate Observable == - - -\n",
      "ket:   (3, 0)\t(-0.11294902938969445+0j)\n",
      "  (12, 0)\t(0.9936007833933737+0j)\n",
      "ket type: <class 'scipy.sparse._csr.csr_matrix'>\n",
      "bra:   (0, 3)\t(-0.11294902938969445-0j)\n",
      "  (0, 12)\t(0.9936007833933737-0j)\n",
      "obs:\n",
      "   (9, 6)\t(-0.7037702686274849+0j)\n",
      "  (6, 6)\t(-0.36264481112918634+0j)\n",
      "  (9, 9)\t(0.36264481112918634+0j)\n",
      "  (6, 9)\t(0.7037702686274849+0j)\n",
      "res: 0.0 \n",
      "\n",
      "Gradient Result for Pool Index 3 : 0.0\n",
      "Final Selected Indices: []\n",
      "Final Selected Gradients: []\n",
      "Total Norm 0.0\n",
      "Max Norm 0\n",
      "viable candidates []\n",
      "viable gradients []\n",
      "Converged!\n"
     ]
    }
   ],
   "source": [
    "from src.pools import QE\n",
    "from src.molecules import create_h2, create_h4\n",
    "\n",
    "from algorithms.s_adapt_vqe import AdaptVQE\n",
    "\n",
    "r = 0.742\n",
    "molecule = create_h2(r)\n",
    "pool = QE(molecule)\n",
    "\n",
    "adapt_vqe = AdaptVQE(pool=pool,\n",
    "                    molecule=molecule,\n",
    "                    max_adapt_iter=30,\n",
    "                    max_opt_iter=100,\n",
    "                    verbose=True\n",
    "                    )\n",
    "\n",
    "# print(pool)\n",
    "adapt_vqe.run()"
   ]
  },
  {
   "cell_type": "code",
   "execution_count": 138,
   "metadata": {},
   "outputs": [
    {
     "name": "stdout",
     "output_type": "stream",
     "text": [
      "Evolution of ansatz indices:  [[2]]\n",
      "Final operators in the ansatz:  [-0.125j [X0 X1 X2 Y3] +\n",
      "-0.125j [X0 X1 Y2 X3] +\n",
      "0.125j [X0 Y1 X2 X3] +\n",
      "-0.125j [X0 Y1 Y2 Y3] +\n",
      "0.125j [Y0 X1 X2 X3] +\n",
      "-0.125j [Y0 X1 Y2 Y3] +\n",
      "0.125j [Y0 Y1 X2 Y3] +\n",
      "0.125j [Y0 Y1 Y2 X3]]\n",
      "Evolution of ansatz coefficients:  [[-0.11319057622198941]]\n",
      "Function evaluations throughout the iterations: [[5]]\n",
      "Gradient evaluations throughout the iterations: [[5]]\n",
      "Optimizer iterations throughout the iterations: [[3]]\n",
      "Final ansatz circuit:\n",
      "                ┌───┐      ┌───┐                                »\n",
      "q_3: ──■───────┤ X ├──────┤ H ├────────────────────────────────»\n",
      "     ┌─┴─┐┌───┐└─┬─┘      ├───┤                           ┌───┐»\n",
      "q_2: ┤ X ├┤ X ├──┼────────┤ H ├───────────────────────────┤ X ├»\n",
      "     └───┘└───┘  │  ┌─────┴───┴─────┐     ┌──────────────┐└─┬─┘»\n",
      "q_1: ──■─────────■──┤ Ry(-0.028298) ├──■──┤ Ry(0.028298) ├──■──»\n",
      "     ┌─┴─┐┌───┐┌───┐└───────────────┘┌─┴─┐└──────────────┘     »\n",
      "q_0: ┤ X ├┤ X ├┤ H ├─────────────────┤ X ├─────────────────────»\n",
      "     └───┘└───┘└───┘                 └───┘                     »\n",
      "«                                           ┌───┐   ┌─────────┐        »\n",
      "«q_3: ──────────────────────────────────────┤ X ├───┤ Rz(π/2) ├────────»\n",
      "«                                           └─┬─┘   └─────────┘        »\n",
      "«q_2: ────────────────────────────────────────┼────────────────────────»\n",
      "«     ┌───────────────┐     ┌──────────────┐  │  ┌───────────────┐     »\n",
      "«q_1: ┤ Ry(-0.028298) ├──■──┤ Ry(0.028298) ├──■──┤ Ry(-0.028298) ├──■──»\n",
      "«     └───────────────┘┌─┴─┐└──────────────┘     └───────────────┘┌─┴─┐»\n",
      "«q_0: ─────────────────┤ X ├──────────────────────────────────────┤ X ├»\n",
      "«                      └───┘                                      └───┘»\n",
      "«                                                                ┌───┐»\n",
      "«q_3: ───────────────────────────────────────────────────────────┤ X ├»\n",
      "«                     ┌───┐      ┌───┐      ┌───┐                └─┬─┘»\n",
      "«q_2: ────────────────┤ X ├──────┤ H ├──────┤ X ├──────────────────┼──»\n",
      "«     ┌──────────────┐└─┬─┘┌─────┴───┴─────┐└───┘┌──────────────┐  │  »\n",
      "«q_1: ┤ Ry(0.028298) ├──■──┤ Ry(-0.028298) ├──■──┤ Ry(0.028298) ├──■──»\n",
      "«     └──────────────┘     └───────────────┘┌─┴─┐└────┬───┬─────┘┌───┐»\n",
      "«q_0: ──────────────────────────────────────┤ X ├─────┤ H ├──────┤ X ├»\n",
      "«                                           └───┘     └───┘      └───┘»\n",
      "«     ┌─────────┐ ┌─────────┐      ░ \n",
      "«q_3: ┤ Rz(π/2) ├─┤ Ry(π/2) ├──■───░─\n",
      "«     └─────────┘ └─────────┘┌─┴─┐ ░ \n",
      "«q_2: ───────────────────────┤ X ├─░─\n",
      "«     ┌──────────┐           └───┘ ░ \n",
      "«q_1: ┤ Rz(-π/2) ├─────■───────────░─\n",
      "«     └──────────┘   ┌─┴─┐         ░ \n",
      "«q_0: ───────────────┤ X ├─────────░─\n",
      "«                    └───┘         ░ \n",
      "Evolution of ansatz CNOT counts:  [0, 13]\n",
      "Evolution of ansatz CNOT depths:  [0, 11]\n"
     ]
    }
   ],
   "source": [
    "data = adapt_vqe.data\n",
    "\n",
    "# Access the final ansatz indices and coefficients\n",
    "print(\"Evolution of ansatz indices: \", data.evolution.indices)\n",
    "print(\n",
    "    \"Final operators in the ansatz: \",\n",
    "    [pool.get_op(index) for index in data.result.ansatz.indices],\n",
    ")\n",
    "print(\"Evolution of ansatz coefficients: \", data.evolution.coefficients)\n",
    "\n",
    "# Access the number of function evaluations, gradient evaluations, optimizer iterations for each ADAPT-VQE iteration\n",
    "print(\"Function evaluations throughout the iterations:\", data.evolution.nfevs)\n",
    "print(\"Gradient evaluations throughout the iterations:\", data.evolution.ngevs)\n",
    "print(\"Optimizer iterations throughout the iterations:\", data.evolution.nits)\n",
    "\n",
    "# Create the circuit implementing the final ansatz\n",
    "qc = pool.get_circuit(data.result.ansatz.indices, data.result.ansatz.coefficients)\n",
    "print(\"Final ansatz circuit:\\n\", qc)\n",
    "\n",
    "# Access the number of CNOTs and CNOT depth at each iteration\n",
    "print(\"Evolution of ansatz CNOT counts: \", data.acc_cnot_counts(pool))\n",
    "print(\"Evolution of ansatz CNOT depths: \", data.acc_cnot_depths(pool))"
   ]
  },
  {
   "cell_type": "code",
   "execution_count": 102,
   "metadata": {},
   "outputs": [
    {
     "name": "stdout",
     "output_type": "stream",
     "text": [
      "-0.125j [X0 X1 X2 Y3] +\n",
      "0.125j [X0 X1 Y2 X3] +\n",
      "0.125j [X0 Y1 X2 X3] +\n",
      "0.125j [X0 Y1 Y2 Y3] +\n",
      "-0.125j [Y0 X1 X2 X3] +\n",
      "-0.125j [Y0 X1 Y2 Y3] +\n",
      "-0.125j [Y0 Y1 X2 Y3] +\n",
      "0.125j [Y0 Y1 Y2 X3]\n"
     ]
    }
   ],
   "source": [
    "print(pool.get_q_op(3))"
   ]
  },
  {
   "cell_type": "code",
   "execution_count": 110,
   "metadata": {},
   "outputs": [
    {
     "name": "stdout",
     "output_type": "stream",
     "text": [
      "Jumlah Iterasi ADAPT-VQE: 1\n",
      "Initial Energy -1.116651247411522\n",
      "Initial Energy -1.116651247411522\n",
      "Final Energy -1.137263338363534\n"
     ]
    },
    {
     "data": {
      "text/plain": [
       "[<matplotlib.lines.Line2D at 0x7f7bab78f320>]"
      ]
     },
     "execution_count": 110,
     "metadata": {},
     "output_type": "execute_result"
    },
    {
     "data": {
      "image/png": "[encoded data removed]",
      "text/plain": [
       "<Figure size 640x480 with 1 Axes>"
      ]
     },
     "metadata": {},
     "output_type": "display_data"
    }
   ],
   "source": [
    "import matplotlib.pyplot as plt\n",
    "\n",
    "data = adapt_vqe.data\n",
    "print(\"Jumlah Iterasi ADAPT-VQE:\", data.iteration_counter)\n",
    "\n",
    "print(\"Initial Energy\", data.initial_energy)\n",
    "print(\"Initial Energy\", data.evolution.initial_energy)\n",
    "\n",
    "\n",
    "print(\"Final Energy\", data.evolution.its_data[-1].energy)\n",
    "plt.plot(data.evolution.energies)"
   ]
  },
  {
   "cell_type": "code",
   "execution_count": 111,
   "metadata": {},
   "outputs": [
    {
     "data": {
      "text/plain": [
       "-1.137263338363534"
      ]
     },
     "execution_count": 111,
     "metadata": {},
     "output_type": "execute_result"
    }
   ],
   "source": [
    "energies = data.evolution.its_data\n",
    "energies[-1].energy"
   ]
  },
  {
   "cell_type": "code",
   "execution_count": 112,
   "metadata": {},
   "outputs": [
    {
     "data": {
      "text/plain": [
       "[-0.11319057622198941]"
      ]
     },
     "execution_count": 112,
     "metadata": {},
     "output_type": "execute_result"
    }
   ],
   "source": [
    "data.result.ansatz.coefficients"
   ]
  },
  {
   "cell_type": "code",
   "execution_count": 113,
   "metadata": {},
   "outputs": [
    {
     "data": {
      "text/plain": [
       "[2]"
      ]
     },
     "execution_count": 113,
     "metadata": {},
     "output_type": "execute_result"
    }
   ],
   "source": [
    "data.result.ansatz.indices"
   ]
  },
  {
   "cell_type": "code",
   "execution_count": 78,
   "metadata": {},
   "outputs": [
    {
     "name": "stdout",
     "output_type": "stream",
     "text": [
      "<zip object at 0x7f7baac9c0c0>\n"
     ]
    }
   ],
   "source": [
    "print(zip(data.result.ansatz.indices, data.result.ansatz.coefficients))"
   ]
  },
  {
   "cell_type": "code",
   "execution_count": 119,
   "metadata": {},
   "outputs": [
    {
     "name": "stdout",
     "output_type": "stream",
     "text": [
      "-0.125j [X0 X1 X2 Y3] +\n",
      "-0.125j [X0 X1 Y2 X3] +\n",
      "0.125j [X0 Y1 X2 X3] +\n",
      "-0.125j [X0 Y1 Y2 Y3] +\n",
      "0.125j [Y0 X1 X2 X3] +\n",
      "-0.125j [Y0 X1 Y2 Y3] +\n",
      "0.125j [Y0 Y1 X2 Y3] +\n",
      "0.125j [Y0 Y1 Y2 X3]\n"
     ]
    }
   ],
   "source": [
    "print(pool.operators[2])"
   ]
  },
  {
   "cell_type": "code",
   "execution_count": 122,
   "metadata": {},
   "outputs": [
    {
     "name": "stdout",
     "output_type": "stream",
     "text": [
      "[2, 3]\n",
      "[0, 1]\n",
      "\n"
     ]
    }
   ],
   "source": [
    "from qiskit import QuantumCircuit\n",
    "\n",
    "indices = data.result.ansatz.indices\n",
    "coefficients = data.result.ansatz.coefficients\n",
    "\n",
    "circuit = QuantumCircuit(data.n)\n",
    "\n",
    "for i, (index, coefficient) in enumerate(zip(indices, coefficients)):\n",
    "    # print(index)\n",
    "    # print(coefficient)\n",
    "    operator = pool.operators[index]\n",
    "    source_orbs = operator.source_orbs\n",
    "    target_orbs = operator.target_orbs\n",
    "    print(source_orbs)\n",
    "    print(target_orbs)\n",
    "    print('')\n",
    "    "
   ]
  },
  {
   "cell_type": "code",
   "execution_count": 144,
   "metadata": {},
   "outputs": [
    {
     "data": {
      "image/png": "[encoded data removed]",
      "text/plain": [
       "<Figure size 789.163x367.889 with 1 Axes>"
      ]
     },
     "execution_count": 144,
     "metadata": {},
     "output_type": "execute_result"
    }
   ],
   "source": [
    "qc = pool.get_circuit([0], data.result.ansatz.coefficients)\n",
    "qc.draw(reverse_bits=True)"
   ]
  },
  {
   "cell_type": "code",
   "execution_count": 143,
   "metadata": {},
   "outputs": [
    {
     "data": {
      "image/png": "[encoded data removed]",
      "text/plain": [
       "<Figure size 789.163x367.889 with 1 Axes>"
      ]
     },
     "execution_count": 143,
     "metadata": {},
     "output_type": "execute_result"
    }
   ],
   "source": [
    "qc = pool.get_circuit([1], data.result.ansatz.coefficients)\n",
    "qc.draw(reverse_bits=True)"
   ]
  },
  {
   "cell_type": "code",
   "execution_count": 132,
   "metadata": {},
   "outputs": [
    {
     "data": {
      "image/png": "[encoded data removed]",
      "text/plain": [
       "<Figure size 2126.94x367.889 with 1 Axes>"
      ]
     },
     "execution_count": 132,
     "metadata": {},
     "output_type": "execute_result"
    }
   ],
   "source": [
    "qc = pool.get_circuit([3], data.result.ansatz.coefficients*21)\n",
    "qc.draw(reverse_bits=True)"
   ]
  },
  {
   "cell_type": "code",
   "execution_count": 145,
   "metadata": {},
   "outputs": [
    {
     "data": {
      "image/png": "[encoded data removed]",
      "text/plain": [
       "<Figure size 2043.33x367.889 with 1 Axes>"
      ]
     },
     "execution_count": 145,
     "metadata": {},
     "output_type": "execute_result"
    }
   ],
   "source": [
    "qc = pool.get_circuit(data.result.ansatz.indices, data.result.ansatz.coefficients*21)\n",
    "qc.draw(reverse_bits=True)"
   ]
  }
 ],
 "metadata": {
  "kernelspec": {
   "display_name": "qiskit-1-2",
   "language": "python",
   "name": "python3"
  },
  "language_info": {
   "codemirror_mode": {
    "name": "ipython",
    "version": 3
   },
   "file_extension": ".py",
   "mimetype": "text/x-python",
   "name": "python",
   "nbconvert_exporter": "python",
   "pygments_lexer": "ipython3",
   "version": "3.12.3"
  }
 },
 "nbformat": 4,
 "nbformat_minor": 2
}
