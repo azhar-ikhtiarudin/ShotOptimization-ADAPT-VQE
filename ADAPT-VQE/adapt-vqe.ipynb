{
 "cells": [
  {
   "cell_type": "markdown",
   "metadata": {},
   "source": [
    "Define Pools"
   ]
  },
  {
   "cell_type": "code",
   "execution_count": 8,
   "metadata": {},
   "outputs": [
    {
     "name": "stdout",
     "output_type": "stream",
     "text": [
      "The autoreload extension is already loaded. To reload it, use:\n",
      "  %reload_ext autoreload\n"
     ]
    }
   ],
   "source": [
    "%load_ext autoreload\n",
    "%autoreload 2"
   ]
  },
  {
   "cell_type": "code",
   "execution_count": 9,
   "metadata": {},
   "outputs": [
    {
     "name": "stdout",
     "output_type": "stream",
     "text": [
      "/home/azhar04/anaconda3/envs/qiskit-1-2/bin/python\n"
     ]
    }
   ],
   "source": [
    "import sys\n",
    "sys.path.append('/home/azhar04/project/1. dev/quantum-dev/ShotOptimized-ADAPT-VQE/ADAPT-VQE/')\n",
    "print(sys.executable)"
   ]
  },
  {
   "cell_type": "code",
   "execution_count": 56,
   "metadata": {},
   "outputs": [
    {
     "name": "stdout",
     "output_type": "stream",
     "text": [
      "Evaluate observable, ket:   (12, 0)\t(1+0j)\n",
      "Evaluate observable, bra:   (0, 12)\t(1-0j)\n",
      "Initial Energy:  -1.116651247411522\n",
      "First Run, finished= False\n"
     ]
    },
    {
     "ename": "AttributeError",
     "evalue": "'AdaptVQE' object has no attribute 'start_iteration'",
     "output_type": "error",
     "traceback": [
      "\u001b[0;31m---------------------------------------------------------------------------\u001b[0m",
      "\u001b[0;31mAttributeError\u001b[0m                            Traceback (most recent call last)",
      "Cell \u001b[0;32mIn[56], line 17\u001b[0m\n\u001b[1;32m      8\u001b[0m pool \u001b[38;5;241m=\u001b[39m QE(molecule)\n\u001b[1;32m     10\u001b[0m AdaptVQE \u001b[38;5;241m=\u001b[39m AdaptVQE(pool\u001b[38;5;241m=\u001b[39mQE,\n\u001b[1;32m     11\u001b[0m                     molecule\u001b[38;5;241m=\u001b[39mmolecule,\n\u001b[1;32m     12\u001b[0m                     max_adapt_iter\u001b[38;5;241m=\u001b[39m\u001b[38;5;241m1\u001b[39m,\n\u001b[1;32m     13\u001b[0m                     max_opt_iter\u001b[38;5;241m=\u001b[39m\u001b[38;5;241m10\u001b[39m,\n\u001b[1;32m     14\u001b[0m                     verbose\u001b[38;5;241m=\u001b[39m\u001b[38;5;28;01mFalse\u001b[39;00m\n\u001b[1;32m     15\u001b[0m                     )\n\u001b[0;32m---> 17\u001b[0m \u001b[43mAdaptVQE\u001b[49m\u001b[38;5;241;43m.\u001b[39;49m\u001b[43mrun\u001b[49m\u001b[43m(\u001b[49m\u001b[43m)\u001b[49m\n",
      "File \u001b[0;32m~/project/1. dev/quantum-dev/ShotOptimized-ADAPT-VQE/ADAPT-VQE/algorithms/adapt_vqe.py:155\u001b[0m, in \u001b[0;36mAdaptVQE.run\u001b[0;34m(self)\u001b[0m\n\u001b[1;32m    153\u001b[0m \u001b[38;5;28mprint\u001b[39m(\u001b[38;5;124m\"\u001b[39m\u001b[38;5;124mFirst Run, finished=\u001b[39m\u001b[38;5;124m\"\u001b[39m, finished)\n\u001b[1;32m    154\u001b[0m \u001b[38;5;28;01mwhile\u001b[39;00m \u001b[38;5;129;01mnot\u001b[39;00m finished \u001b[38;5;129;01mand\u001b[39;00m \u001b[38;5;28mself\u001b[39m\u001b[38;5;241m.\u001b[39mdata\u001b[38;5;241m.\u001b[39miteration_counter \u001b[38;5;241m<\u001b[39m \u001b[38;5;28mself\u001b[39m\u001b[38;5;241m.\u001b[39mmax_adapt_iter:\n\u001b[0;32m--> 155\u001b[0m     finished \u001b[38;5;241m=\u001b[39m \u001b[38;5;28;43mself\u001b[39;49m\u001b[38;5;241;43m.\u001b[39;49m\u001b[43mrun_iteration\u001b[49m\u001b[43m(\u001b[49m\u001b[43m)\u001b[49m\n\u001b[1;32m    157\u001b[0m \u001b[38;5;66;03m# End of the loop\u001b[39;00m\n\u001b[1;32m    158\u001b[0m \u001b[38;5;28;01mif\u001b[39;00m \u001b[38;5;129;01mnot\u001b[39;00m finished:\n",
      "File \u001b[0;32m~/project/1. dev/quantum-dev/ShotOptimized-ADAPT-VQE/ADAPT-VQE/algorithms/adapt_vqe.py:170\u001b[0m, in \u001b[0;36mAdaptVQE.run_iteration\u001b[0;34m(self)\u001b[0m\n\u001b[1;32m    167\u001b[0m \u001b[38;5;28;01mdef\u001b[39;00m \u001b[38;5;21mrun_iteration\u001b[39m(\u001b[38;5;28mself\u001b[39m):\n\u001b[1;32m    168\u001b[0m     \u001b[38;5;66;03m# Run one Iteration of the algorithm\u001b[39;00m\n\u001b[1;32m    169\u001b[0m     finished, viable_candidates, viable_gradients, total_norm \u001b[38;5;241m=\u001b[39m (\n\u001b[0;32m--> 170\u001b[0m         \u001b[38;5;28;43mself\u001b[39;49m\u001b[38;5;241;43m.\u001b[39;49m\u001b[43mstart_iteration\u001b[49m()\n\u001b[1;32m    171\u001b[0m     )\n\u001b[1;32m    173\u001b[0m     \u001b[38;5;28;01mif\u001b[39;00m finished:\n\u001b[1;32m    174\u001b[0m         \u001b[38;5;28;01mreturn\u001b[39;00m finished \u001b[38;5;66;03m# already converged\u001b[39;00m\n",
      "\u001b[0;31mAttributeError\u001b[0m: 'AdaptVQE' object has no attribute 'start_iteration'"
     ]
    }
   ],
   "source": [
    "from src.pools import QE\n",
    "from src.molecules import create_h2\n",
    "\n",
    "from algorithms.adapt_vqe import AdaptVQE\n",
    "\n",
    "r = 0.742\n",
    "molecule = create_h2(r)\n",
    "pool = QE(molecule)\n",
    "\n",
    "AdaptVQE = AdaptVQE(pool=QE,\n",
    "                    molecule=molecule,\n",
    "                    max_adapt_iter=1,\n",
    "                    max_opt_iter=10,\n",
    "                    verbose=False\n",
    "                    )\n",
    "                    \n",
    "AdaptVQE.run()"
   ]
  }
 ],
 "metadata": {
  "kernelspec": {
   "display_name": "qiskit-1-2",
   "language": "python",
   "name": "python3"
  },
  "language_info": {
   "codemirror_mode": {
    "name": "ipython",
    "version": 3
   },
   "file_extension": ".py",
   "mimetype": "text/x-python",
   "name": "python",
   "nbconvert_exporter": "python",
   "pygments_lexer": "ipython3",
   "version": "3.12.3"
  }
 },
 "nbformat": 4,
 "nbformat_minor": 2
}
