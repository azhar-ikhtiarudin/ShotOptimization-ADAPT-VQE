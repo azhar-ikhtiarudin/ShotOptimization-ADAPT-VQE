{
 "cells": [
  {
   "cell_type": "markdown",
   "metadata": {},
   "source": [
    "Define Pools"
   ]
  },
  {
   "cell_type": "code",
   "execution_count": 8,
   "metadata": {},
   "outputs": [
    {
     "name": "stdout",
     "output_type": "stream",
     "text": [
      "The autoreload extension is already loaded. To reload it, use:\n",
      "  %reload_ext autoreload\n"
     ]
    }
   ],
   "source": [
    "%load_ext autoreload\n",
    "%autoreload 2"
   ]
  },
  {
   "cell_type": "code",
   "execution_count": 9,
   "metadata": {},
   "outputs": [
    {
     "name": "stdout",
     "output_type": "stream",
     "text": [
      "/home/azhar04/anaconda3/envs/qiskit-1-2/bin/python\n"
     ]
    }
   ],
   "source": [
    "import sys\n",
    "sys.path.append('/home/azhar04/project/1. dev/quantum-dev/ShotOptimized-ADAPT-VQE/ADAPT-VQE/')\n",
    "print(sys.executable)"
   ]
  },
  {
   "cell_type": "code",
   "execution_count": 37,
   "metadata": {},
   "outputs": [
    {
     "name": "stdout",
     "output_type": "stream",
     "text": [
      "HF State: [1, 1, 0, 0]\n",
      "N Qubits: 4\n",
      "Hamiltonian: () 0.7131768341239892\n",
      "((0, 1), (0, 0)) -1.2521011771187973\n",
      "((1, 1), (1, 0)) -1.2521011771187973\n",
      "((2, 1), (2, 0)) -0.4763246662830587\n",
      "((3, 1), (3, 0)) -0.4763246662830587\n",
      "((0, 1), (0, 1), (0, 0), (0, 0)) 0.3371871363510416\n",
      "((0, 1), (0, 1), (2, 0), (2, 0)) 0.09066120278229658\n",
      "((0, 1), (1, 1), (1, 0), (0, 0)) 0.3371871363510416\n",
      "((0, 1), (1, 1), (3, 0), (2, 0)) 0.09066120278229658\n",
      "((0, 1), (2, 1), (0, 0), (2, 0)) 0.09066120278229658\n",
      "((0, 1), (2, 1), (2, 0), (0, 0)) 0.33168193748206215\n",
      "((0, 1), (3, 1), (1, 0), (2, 0)) 0.09066120278229658\n",
      "((0, 1), (3, 1), (3, 0), (0, 0)) 0.33168193748206215\n",
      "((1, 1), (0, 1), (0, 0), (1, 0)) 0.3371871363510416\n",
      "((1, 1), (0, 1), (2, 0), (3, 0)) 0.09066120278229658\n",
      "((1, 1), (1, 1), (1, 0), (1, 0)) 0.3371871363510416\n",
      "((1, 1), (1, 1), (3, 0), (3, 0)) 0.09066120278229658\n",
      "((1, 1), (2, 1), (0, 0), (3, 0)) 0.09066120278229658\n",
      "((1, 1), (2, 1), (2, 0), (1, 0)) 0.33168193748206215\n",
      "((1, 1), (3, 1), (1, 0), (3, 0)) 0.09066120278229658\n",
      "((1, 1), (3, 1), (3, 0), (1, 0)) 0.33168193748206215\n",
      "((2, 1), (0, 1), (0, 0), (2, 0)) 0.3316819374820622\n",
      "((2, 1), (0, 1), (2, 0), (0, 0)) 0.09066120278229658\n",
      "((2, 1), (1, 1), (1, 0), (2, 0)) 0.3316819374820622\n",
      "((2, 1), (1, 1), (3, 0), (0, 0)) 0.09066120278229658\n",
      "((2, 1), (2, 1), (0, 0), (0, 0)) 0.09066120278229658\n",
      "((2, 1), (2, 1), (2, 0), (2, 0)) 0.3486416866888512\n",
      "((2, 1), (3, 1), (1, 0), (0, 0)) 0.09066120278229658\n",
      "((2, 1), (3, 1), (3, 0), (2, 0)) 0.3486416866888512\n",
      "((3, 1), (0, 1), (0, 0), (3, 0)) 0.3316819374820622\n",
      "((3, 1), (0, 1), (2, 0), (1, 0)) 0.09066120278229658\n",
      "((3, 1), (1, 1), (1, 0), (3, 0)) 0.3316819374820622\n",
      "((3, 1), (1, 1), (3, 0), (1, 0)) 0.09066120278229658\n",
      "((3, 1), (2, 1), (0, 0), (1, 0)) 0.09066120278229658\n",
      "((3, 1), (2, 1), (2, 0), (3, 0)) 0.3486416866888512\n",
      "((3, 1), (3, 1), (1, 0), (1, 0)) 0.09066120278229658\n",
      "((3, 1), (3, 1), (3, 0), (3, 0)) 0.3486416866888512\n",
      "\n",
      "Exact Energy: -1.1372633383635353\n"
     ]
    }
   ],
   "source": [
    "from src.pools import QE\n",
    "from src.molecules import create_h2\n",
    "\n",
    "from algorithms.adapt_vqe import AdaptVQE\n",
    "\n",
    "r = 0.742\n",
    "molecule = create_h2(r)\n",
    "pool = QE(molecule)\n",
    "\n",
    "AdaptVQE = AdaptVQE(pool=QE,\n",
    "                    molecule=molecule,\n",
    "                    max_adapt_iter=1,\n",
    "                    max_opt_iter=10,\n",
    "                    verbose=True\n",
    "                    )"
   ]
  }
 ],
 "metadata": {
  "kernelspec": {
   "display_name": "qiskit-1-2",
   "language": "python",
   "name": "python3"
  },
  "language_info": {
   "codemirror_mode": {
    "name": "ipython",
    "version": 3
   },
   "file_extension": ".py",
   "mimetype": "text/x-python",
   "name": "python",
   "nbconvert_exporter": "python",
   "pygments_lexer": "ipython3",
   "version": "3.12.3"
  }
 },
 "nbformat": 4,
 "nbformat_minor": 2
}
