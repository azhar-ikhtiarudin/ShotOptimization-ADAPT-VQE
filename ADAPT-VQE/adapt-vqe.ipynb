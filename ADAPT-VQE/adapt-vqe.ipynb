{
 "cells": [
  {
   "cell_type": "markdown",
   "metadata": {},
   "source": [
    "Define Pools"
   ]
  },
  {
   "cell_type": "code",
   "execution_count": 8,
   "metadata": {},
   "outputs": [
    {
     "name": "stdout",
     "output_type": "stream",
     "text": [
      "The autoreload extension is already loaded. To reload it, use:\n",
      "  %reload_ext autoreload\n"
     ]
    }
   ],
   "source": [
    "%load_ext autoreload\n",
    "%autoreload 2"
   ]
  },
  {
   "cell_type": "code",
   "execution_count": 9,
   "metadata": {},
   "outputs": [
    {
     "name": "stdout",
     "output_type": "stream",
     "text": [
      "/home/azhar04/anaconda3/envs/qiskit-1-2/bin/python\n"
     ]
    }
   ],
   "source": [
    "import sys\n",
    "sys.path.append('/home/azhar04/project/1. dev/quantum-dev/ShotOptimized-ADAPT-VQE/ADAPT-VQE/')\n",
    "print(sys.executable)"
   ]
  },
  {
   "cell_type": "code",
   "execution_count": 77,
   "metadata": {},
   "outputs": [
    {
     "name": "stdout",
     "output_type": "stream",
     "text": [
      "Evaluate observable, ket:   (12, 0)\t(1+0j)\n",
      "Evaluate observable, bra:   (0, 12)\t(1-0j)\n",
      "Evaluate observable, observable:   (0, 0)\t(0.7131768341239892+0j)\n",
      "  (1, 1)\t(0.23685216784093055+0j)\n",
      "  (2, 2)\t(0.23685216784093055+0j)\n",
      "  (3, 3)\t(0.45781087493557426+0j)\n",
      "  (12, 3)\t(0.18132240556459317+0j)\n",
      "  (4, 4)\t(-0.5389243429948081+0j)\n",
      "  (5, 5)\t(-0.5332075398783357+0j)\n",
      "  (6, 6)\t(-0.35188513431374246+0j)\n",
      "  (9, 6)\t(-0.18132240556459317+0j)\n",
      "  (7, 7)\t(0.3511150421804323+0j)\n",
      "  (8, 8)\t(-0.5389243429948081+0j)\n",
      "  (6, 9)\t(-0.18132240556459317+0j)\n",
      "  (9, 9)\t(-0.35188513431374246+0j)\n",
      "  (10, 10)\t(-0.5332075398783357+0j)\n",
      "  (11, 11)\t(0.3511150421804323+0j)\n",
      "  (3, 12)\t(0.18132240556459317+0j)\n",
      "  (12, 12)\t(-1.116651247411522+0j)\n",
      "  (13, 13)\t(-0.4475705693309253+0j)\n",
      "  (14, 14)\t(-0.4475705693309253+0j)\n",
      "  (15, 15)\t(0.9187934821273738+0j)\n",
      "Initial Energy:  -1.116651247411522\n",
      "First Run, finished= False\n",
      "\n",
      "*** ADAPT-VQE Iteration 1 ***\n",
      "\n",
      "Pool Size:  4\n",
      "Measurement (get_grad_meas):  None\n",
      "ImplementationType.SPARSE 0\n",
      "self.imp_type 0\n",
      "operator   (8, 2)\t(1+0j)\n",
      "  (9, 3)\t(1+0j)\n",
      "  (12, 6)\t(1+0j)\n",
      "  (13, 7)\t(1+0j)\n",
      "  (2, 8)\t(-1+0j)\n",
      "  (3, 9)\t(-1+0j)\n",
      "  (6, 12)\t(-1+0j)\n",
      "  (7, 13)\t(-1+0j)\n",
      "Evaluate observable, ket:   (12, 0)\t(1+0j)\n",
      "Evaluate observable, bra:   (0, 12)\t(1-0j)\n",
      "Evaluate observable, observable:   (8, 2)\t(-1.0778486859896161+0j)\n",
      "  (9, 3)\t(-0.7037702686274849+0j)\n",
      "  (6, 3)\t(-0.36264481112918634+0j)\n",
      "  (12, 6)\t(-2.233302494823044+0j)\n",
      "  (3, 6)\t(0.36264481112918634+0j)\n",
      "  (13, 7)\t(-0.8951411386618506+0j)\n",
      "  (2, 8)\t(-0.4737043356818611+0j)\n",
      "  (12, 9)\t(-0.36264481112918634+0j)\n",
      "  (3, 9)\t(-0.9156217498711485+0j)\n",
      "  (9, 12)\t(0.36264481112918634+0j)\n",
      "  (6, 12)\t(0.7037702686274849+0j)\n",
      "  (7, 13)\t(-0.7022300843608646+0j)\n"
     ]
    },
    {
     "ename": "TypeError",
     "evalue": "AdaptVQE.penalize_gradient() takes 3 positional arguments but 4 were given",
     "output_type": "error",
     "traceback": [
      "\u001b[0;31m---------------------------------------------------------------------------\u001b[0m",
      "\u001b[0;31mTypeError\u001b[0m                                 Traceback (most recent call last)",
      "Cell \u001b[0;32mIn[77], line 18\u001b[0m\n\u001b[1;32m     10\u001b[0m AdaptVQE \u001b[38;5;241m=\u001b[39m AdaptVQE(pool\u001b[38;5;241m=\u001b[39mpool,\n\u001b[1;32m     11\u001b[0m                     molecule\u001b[38;5;241m=\u001b[39mmolecule,\n\u001b[1;32m     12\u001b[0m                     max_adapt_iter\u001b[38;5;241m=\u001b[39m\u001b[38;5;241m1\u001b[39m,\n\u001b[1;32m     13\u001b[0m                     max_opt_iter\u001b[38;5;241m=\u001b[39m\u001b[38;5;241m10\u001b[39m,\n\u001b[1;32m     14\u001b[0m                     verbose\u001b[38;5;241m=\u001b[39m\u001b[38;5;28;01mFalse\u001b[39;00m\n\u001b[1;32m     15\u001b[0m                     )\n\u001b[1;32m     17\u001b[0m \u001b[38;5;66;03m# print(pool)\u001b[39;00m\n\u001b[0;32m---> 18\u001b[0m \u001b[43mAdaptVQE\u001b[49m\u001b[38;5;241;43m.\u001b[39;49m\u001b[43mrun\u001b[49m\u001b[43m(\u001b[49m\u001b[43m)\u001b[49m\n",
      "File \u001b[0;32m~/project/1. dev/quantum-dev/ShotOptimized-ADAPT-VQE/ADAPT-VQE/algorithms/adapt_vqe.py:158\u001b[0m, in \u001b[0;36mAdaptVQE.run\u001b[0;34m(self)\u001b[0m\n\u001b[1;32m    156\u001b[0m \u001b[38;5;28mprint\u001b[39m(\u001b[38;5;124m\"\u001b[39m\u001b[38;5;124mFirst Run, finished=\u001b[39m\u001b[38;5;124m\"\u001b[39m, finished)\n\u001b[1;32m    157\u001b[0m \u001b[38;5;28;01mwhile\u001b[39;00m \u001b[38;5;129;01mnot\u001b[39;00m finished \u001b[38;5;129;01mand\u001b[39;00m \u001b[38;5;28mself\u001b[39m\u001b[38;5;241m.\u001b[39mdata\u001b[38;5;241m.\u001b[39miteration_counter \u001b[38;5;241m<\u001b[39m \u001b[38;5;28mself\u001b[39m\u001b[38;5;241m.\u001b[39mmax_adapt_iter:\n\u001b[0;32m--> 158\u001b[0m     finished \u001b[38;5;241m=\u001b[39m \u001b[38;5;28;43mself\u001b[39;49m\u001b[38;5;241;43m.\u001b[39;49m\u001b[43mrun_iteration\u001b[49m\u001b[43m(\u001b[49m\u001b[43m)\u001b[49m\n\u001b[1;32m    160\u001b[0m \u001b[38;5;66;03m# End of the loop\u001b[39;00m\n\u001b[1;32m    161\u001b[0m \u001b[38;5;28;01mif\u001b[39;00m \u001b[38;5;129;01mnot\u001b[39;00m finished:\n",
      "File \u001b[0;32m~/project/1. dev/quantum-dev/ShotOptimized-ADAPT-VQE/ADAPT-VQE/algorithms/adapt_vqe.py:173\u001b[0m, in \u001b[0;36mAdaptVQE.run_iteration\u001b[0;34m(self)\u001b[0m\n\u001b[1;32m    170\u001b[0m \u001b[38;5;28;01mdef\u001b[39;00m \u001b[38;5;21mrun_iteration\u001b[39m(\u001b[38;5;28mself\u001b[39m):\n\u001b[1;32m    171\u001b[0m     \u001b[38;5;66;03m# Run one Iteration of the algorithm\u001b[39;00m\n\u001b[1;32m    172\u001b[0m     finished, viable_candidates, viable_gradients, total_norm \u001b[38;5;241m=\u001b[39m (\n\u001b[0;32m--> 173\u001b[0m         \u001b[38;5;28;43mself\u001b[39;49m\u001b[38;5;241;43m.\u001b[39;49m\u001b[43mstart_iteration\u001b[49m\u001b[43m(\u001b[49m\u001b[43m)\u001b[49m\n\u001b[1;32m    174\u001b[0m     )\n\u001b[1;32m    176\u001b[0m     \u001b[38;5;28;01mif\u001b[39;00m finished:\n\u001b[1;32m    177\u001b[0m         \u001b[38;5;28;01mreturn\u001b[39;00m finished \u001b[38;5;66;03m# already converged\u001b[39;00m\n",
      "File \u001b[0;32m~/project/1. dev/quantum-dev/ShotOptimized-ADAPT-VQE/ADAPT-VQE/algorithms/adapt_vqe.py:215\u001b[0m, in \u001b[0;36mAdaptVQE.start_iteration\u001b[0;34m(self)\u001b[0m\n\u001b[1;32m    211\u001b[0m \u001b[38;5;28;01mdef\u001b[39;00m \u001b[38;5;21mstart_iteration\u001b[39m(\u001b[38;5;28mself\u001b[39m):\n\u001b[1;32m    212\u001b[0m     \u001b[38;5;28mprint\u001b[39m(\u001b[38;5;124mf\u001b[39m\u001b[38;5;124m\"\u001b[39m\u001b[38;5;130;01m\\n\u001b[39;00m\u001b[38;5;124m*** ADAPT-VQE Iteration \u001b[39m\u001b[38;5;132;01m{\u001b[39;00m\u001b[38;5;28mself\u001b[39m\u001b[38;5;241m.\u001b[39mdata\u001b[38;5;241m.\u001b[39miteration_counter\u001b[38;5;250m \u001b[39m\u001b[38;5;241m+\u001b[39m\u001b[38;5;250m \u001b[39m\u001b[38;5;241m1\u001b[39m\u001b[38;5;132;01m}\u001b[39;00m\u001b[38;5;124m ***\u001b[39m\u001b[38;5;130;01m\\n\u001b[39;00m\u001b[38;5;124m\"\u001b[39m)\n\u001b[1;32m    214\u001b[0m     viable_candidates, viable_gradients, total_norm, max_norm \u001b[38;5;241m=\u001b[39m (\n\u001b[0;32m--> 215\u001b[0m         \u001b[38;5;28;43mself\u001b[39;49m\u001b[38;5;241;43m.\u001b[39;49m\u001b[43mrank_gradients\u001b[49m\u001b[43m(\u001b[49m\u001b[43m)\u001b[49m\n\u001b[1;32m    216\u001b[0m     )\n",
      "File \u001b[0;32m~/project/1. dev/quantum-dev/ShotOptimized-ADAPT-VQE/ADAPT-VQE/algorithms/adapt_vqe.py:229\u001b[0m, in \u001b[0;36mAdaptVQE.rank_gradients\u001b[0;34m(self, coefficients, indices, silent)\u001b[0m\n\u001b[1;32m    226\u001b[0m \u001b[38;5;28;01mfor\u001b[39;00m index \u001b[38;5;129;01min\u001b[39;00m \u001b[38;5;28mrange\u001b[39m(\u001b[38;5;28mself\u001b[39m\u001b[38;5;241m.\u001b[39mpool\u001b[38;5;241m.\u001b[39msize):\n\u001b[1;32m    227\u001b[0m     \u001b[38;5;66;03m# print(\"Current Operator: \", self.pool[index])\u001b[39;00m\n\u001b[1;32m    228\u001b[0m     gradient \u001b[38;5;241m=\u001b[39m \u001b[38;5;28mself\u001b[39m\u001b[38;5;241m.\u001b[39meval_candidate_gradient(index, coefficients, indices)\n\u001b[0;32m--> 229\u001b[0m     gradient \u001b[38;5;241m=\u001b[39m \u001b[38;5;28;43mself\u001b[39;49m\u001b[38;5;241;43m.\u001b[39;49m\u001b[43mpenalize_gradient\u001b[49m\u001b[43m(\u001b[49m\u001b[43mgradient\u001b[49m\u001b[43m,\u001b[49m\u001b[43m \u001b[49m\u001b[43mindex\u001b[49m\u001b[43m,\u001b[49m\u001b[43m \u001b[49m\u001b[43msilent\u001b[49m\u001b[43m)\u001b[49m\n\u001b[1;32m    231\u001b[0m     \u001b[38;5;28;01mif\u001b[39;00m np\u001b[38;5;241m.\u001b[39mabs(gradient) \u001b[38;5;241m<\u001b[39m \u001b[38;5;241m10\u001b[39m\u001b[38;5;241m*\u001b[39m\u001b[38;5;241m*\u001b[39m\u001b[38;5;241m-\u001b[39m\u001b[38;5;241m8\u001b[39m:\n\u001b[1;32m    232\u001b[0m         \u001b[38;5;28;01mcontinue\u001b[39;00m\n",
      "\u001b[0;31mTypeError\u001b[0m: AdaptVQE.penalize_gradient() takes 3 positional arguments but 4 were given"
     ]
    }
   ],
   "source": [
    "from src.pools import QE\n",
    "from src.molecules import create_h2\n",
    "\n",
    "from algorithms.adapt_vqe import AdaptVQE\n",
    "\n",
    "r = 0.742\n",
    "molecule = create_h2(r)\n",
    "pool = QE(molecule)\n",
    "\n",
    "AdaptVQE = AdaptVQE(pool=pool,\n",
    "                    molecule=molecule,\n",
    "                    max_adapt_iter=1,\n",
    "                    max_opt_iter=10,\n",
    "                    verbose=False\n",
    "                    )\n",
    "\n",
    "# print(pool)\n",
    "AdaptVQE.run()"
   ]
  }
 ],
 "metadata": {
  "kernelspec": {
   "display_name": "qiskit-1-2",
   "language": "python",
   "name": "python3"
  },
  "language_info": {
   "codemirror_mode": {
    "name": "ipython",
    "version": 3
   },
   "file_extension": ".py",
   "mimetype": "text/x-python",
   "name": "python",
   "nbconvert_exporter": "python",
   "pygments_lexer": "ipython3",
   "version": "3.12.3"
  }
 },
 "nbformat": 4,
 "nbformat_minor": 2
}
